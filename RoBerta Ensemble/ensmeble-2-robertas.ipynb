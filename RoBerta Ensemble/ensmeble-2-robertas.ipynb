{
 "cells": [
  {
   "cell_type": "markdown",
   "id": "major-flashing",
   "metadata": {
    "papermill": {
     "duration": 0.035639,
     "end_time": "2021-07-18T18:21:46.241644",
     "exception": false,
     "start_time": "2021-07-18T18:21:46.206005",
     "status": "completed"
    },
    "tags": []
   },
   "source": [
    "# Versions \n",
    "* Version 1: ensmebling both roberta base and roberta large both has LB:-0.479 ensemble ratio: 50:50 LB:-"
   ]
  },
  {
   "cell_type": "code",
   "execution_count": 1,
   "id": "matched-afternoon",
   "metadata": {
    "execution": {
     "iopub.execute_input": "2021-07-18T18:21:46.320859Z",
     "iopub.status.busy": "2021-07-18T18:21:46.318729Z",
     "iopub.status.idle": "2021-07-18T18:21:54.938160Z",
     "shell.execute_reply": "2021-07-18T18:21:54.936639Z",
     "shell.execute_reply.started": "2021-07-18T18:15:42.148976Z"
    },
    "papermill": {
     "duration": 8.658884,
     "end_time": "2021-07-18T18:21:54.938327",
     "exception": false,
     "start_time": "2021-07-18T18:21:46.279443",
     "status": "completed"
    },
    "tags": []
   },
   "outputs": [],
   "source": [
    "import numpy as np \n",
    "import pandas as pd \n",
    "import matplotlib.pyplot as plt\n",
    "from glob import glob\n",
    "\n",
    "from sklearn.model_selection import KFold,StratifiedKFold,train_test_split\n",
    "from sklearn.metrics import mean_squared_error as mse\n",
    "\n",
    "import tensorflow as tf \n",
    "from tensorflow.keras.layers import Layer,Input,LSTM,Bidirectional,Embedding,Dense\n",
    "from tensorflow.keras.metrics import RootMeanSquaredError\n",
    "from tensorflow.keras.models import Model,load_model,save_model,model_from_json\n",
    "from tensorflow.keras.optimizers import Adam\n",
    "from tensorflow.keras.callbacks import ReduceLROnPlateau,ModelCheckpoint, EarlyStopping\n",
    "from tensorflow.keras.activations import tanh,softmax\n",
    "\n",
    "from transformers import TFRobertaModel, RobertaTokenizerFast , AutoConfig , TFAutoModel\n",
    "\n"
   ]
  },
  {
   "cell_type": "code",
   "execution_count": 2,
   "id": "macro-input",
   "metadata": {
    "execution": {
     "iopub.execute_input": "2021-07-18T18:21:55.074587Z",
     "iopub.status.busy": "2021-07-18T18:21:55.073657Z",
     "iopub.status.idle": "2021-07-18T18:21:55.077860Z",
     "shell.execute_reply": "2021-07-18T18:21:55.076899Z",
     "shell.execute_reply.started": "2021-07-18T18:15:46.837264Z"
    },
    "papermill": {
     "duration": 0.1055,
     "end_time": "2021-07-18T18:21:55.078015",
     "exception": false,
     "start_time": "2021-07-18T18:21:54.972515",
     "status": "completed"
    },
    "tags": []
   },
   "outputs": [],
   "source": [
    "gpus = tf.config.list_physical_devices('GPU')\n",
    "if gpus:\n",
    "    for gpu in gpus:\n",
    "        tf.config.experimental.set_memory_growth(gpu,True)"
   ]
  },
  {
   "cell_type": "markdown",
   "id": "ecological-capitol",
   "metadata": {
    "papermill": {
     "duration": 0.034271,
     "end_time": "2021-07-18T18:21:55.146962",
     "exception": false,
     "start_time": "2021-07-18T18:21:55.112691",
     "status": "completed"
    },
    "tags": []
   },
   "source": [
    "# Hyper parameters"
   ]
  },
  {
   "cell_type": "code",
   "execution_count": 3,
   "id": "chief-concord",
   "metadata": {
    "execution": {
     "iopub.execute_input": "2021-07-18T18:21:55.222612Z",
     "iopub.status.busy": "2021-07-18T18:21:55.221505Z",
     "iopub.status.idle": "2021-07-18T18:21:55.224775Z",
     "shell.execute_reply": "2021-07-18T18:21:55.224262Z",
     "shell.execute_reply.started": "2021-07-18T18:15:46.879414Z"
    },
    "papermill": {
     "duration": 0.04332,
     "end_time": "2021-07-18T18:21:55.224921",
     "exception": false,
     "start_time": "2021-07-18T18:21:55.181601",
     "status": "completed"
    },
    "tags": []
   },
   "outputs": [],
   "source": [
    "max_len = 250\n",
    "batch_size = 24\n",
    "AUTOTUNE = tf.data.AUTOTUNE"
   ]
  },
  {
   "cell_type": "code",
   "execution_count": 4,
   "id": "straight-oklahoma",
   "metadata": {
    "execution": {
     "iopub.execute_input": "2021-07-18T18:21:55.312980Z",
     "iopub.status.busy": "2021-07-18T18:21:55.312322Z",
     "iopub.status.idle": "2021-07-18T18:21:55.399147Z",
     "shell.execute_reply": "2021-07-18T18:21:55.398587Z",
     "shell.execute_reply.started": "2021-07-18T18:15:46.892060Z"
    },
    "papermill": {
     "duration": 0.135088,
     "end_time": "2021-07-18T18:21:55.399311",
     "exception": false,
     "start_time": "2021-07-18T18:21:55.264223",
     "status": "completed"
    },
    "tags": []
   },
   "outputs": [],
   "source": [
    "path=[\"/kaggle/input/commonlitreadabilityprize/sample_submission.csv\",\n",
    "\"/kaggle/input/commonlitreadabilityprize/train.csv\",\n",
    "\"/kaggle/input/commonlitreadabilityprize/test.csv\"]\n",
    "\n",
    "df_train = pd.read_csv(path[1])\n",
    "df_test = pd.read_csv(path[2])\n",
    "df_ss = pd.read_csv(path[0])"
   ]
  },
  {
   "cell_type": "code",
   "execution_count": 5,
   "id": "single-schema",
   "metadata": {
    "execution": {
     "iopub.execute_input": "2021-07-18T18:21:55.484152Z",
     "iopub.status.busy": "2021-07-18T18:21:55.483174Z",
     "iopub.status.idle": "2021-07-18T18:21:55.486975Z",
     "shell.execute_reply": "2021-07-18T18:21:55.486448Z",
     "shell.execute_reply.started": "2021-07-18T18:15:46.976543Z"
    },
    "papermill": {
     "duration": 0.052624,
     "end_time": "2021-07-18T18:21:55.487104",
     "exception": false,
     "start_time": "2021-07-18T18:21:55.434480",
     "status": "completed"
    },
    "tags": []
   },
   "outputs": [],
   "source": [
    "df_train = df_train.drop(['url_legal','license','standard_error'],axis='columns')\n",
    "df_test = df_test.drop(['url_legal','license'],axis='columns')"
   ]
  },
  {
   "cell_type": "code",
   "execution_count": 6,
   "id": "square-stewart",
   "metadata": {
    "execution": {
     "iopub.execute_input": "2021-07-18T18:21:55.564040Z",
     "iopub.status.busy": "2021-07-18T18:21:55.563034Z",
     "iopub.status.idle": "2021-07-18T18:21:55.567380Z",
     "shell.execute_reply": "2021-07-18T18:21:55.567909Z",
     "shell.execute_reply.started": "2021-07-18T18:15:46.985955Z"
    },
    "papermill": {
     "duration": 0.047194,
     "end_time": "2021-07-18T18:21:55.568067",
     "exception": false,
     "start_time": "2021-07-18T18:21:55.520873",
     "status": "completed"
    },
    "tags": []
   },
   "outputs": [
    {
     "data": {
      "text/plain": [
       "(Index(['id', 'excerpt', 'target'], dtype='object'),\n",
       " Index(['id', 'excerpt'], dtype='object'))"
      ]
     },
     "execution_count": 6,
     "metadata": {},
     "output_type": "execute_result"
    }
   ],
   "source": [
    "df_train.columns, df_test.columns"
   ]
  },
  {
   "cell_type": "code",
   "execution_count": 7,
   "id": "controlling-footage",
   "metadata": {
    "execution": {
     "iopub.execute_input": "2021-07-18T18:21:55.644220Z",
     "iopub.status.busy": "2021-07-18T18:21:55.643216Z",
     "iopub.status.idle": "2021-07-18T18:21:55.646875Z",
     "shell.execute_reply": "2021-07-18T18:21:55.646183Z",
     "shell.execute_reply.started": "2021-07-18T18:15:46.998746Z"
    },
    "papermill": {
     "duration": 0.043922,
     "end_time": "2021-07-18T18:21:55.647010",
     "exception": false,
     "start_time": "2021-07-18T18:21:55.603088",
     "status": "completed"
    },
    "tags": []
   },
   "outputs": [],
   "source": [
    "X= df_train['excerpt']\n",
    "y=df_train['target']\n",
    "\n",
    "X_test = df_test['excerpt']"
   ]
  },
  {
   "cell_type": "code",
   "execution_count": 8,
   "id": "silver-waters",
   "metadata": {
    "execution": {
     "iopub.execute_input": "2021-07-18T18:21:55.722020Z",
     "iopub.status.busy": "2021-07-18T18:21:55.721006Z",
     "iopub.status.idle": "2021-07-18T18:21:55.724591Z",
     "shell.execute_reply": "2021-07-18T18:21:55.724017Z",
     "shell.execute_reply.started": "2021-07-18T18:15:47.011583Z"
    },
    "papermill": {
     "duration": 0.042767,
     "end_time": "2021-07-18T18:21:55.724722",
     "exception": false,
     "start_time": "2021-07-18T18:21:55.681955",
     "status": "completed"
    },
    "tags": []
   },
   "outputs": [],
   "source": [
    "X = X.tolist()\n",
    "y = y.tolist()\n",
    "X_test = X_test.tolist()"
   ]
  },
  {
   "cell_type": "markdown",
   "id": "educated-twelve",
   "metadata": {
    "papermill": {
     "duration": 0.034688,
     "end_time": "2021-07-18T18:21:55.794401",
     "exception": false,
     "start_time": "2021-07-18T18:21:55.759713",
     "status": "completed"
    },
    "tags": []
   },
   "source": [
    "# Roberta Large"
   ]
  },
  {
   "cell_type": "markdown",
   "id": "beneficial-denmark",
   "metadata": {
    "papermill": {
     "duration": 0.035562,
     "end_time": "2021-07-18T18:21:55.864516",
     "exception": false,
     "start_time": "2021-07-18T18:21:55.828954",
     "status": "completed"
    },
    "tags": []
   },
   "source": [
    "# Initialise Tokenizer Roberta Large"
   ]
  },
  {
   "cell_type": "code",
   "execution_count": 9,
   "id": "encouraging-gothic",
   "metadata": {
    "execution": {
     "iopub.execute_input": "2021-07-18T18:21:55.938615Z",
     "iopub.status.busy": "2021-07-18T18:21:55.937894Z",
     "iopub.status.idle": "2021-07-18T18:21:56.089448Z",
     "shell.execute_reply": "2021-07-18T18:21:56.088589Z",
     "shell.execute_reply.started": "2021-07-18T18:15:47.021687Z"
    },
    "papermill": {
     "duration": 0.190528,
     "end_time": "2021-07-18T18:21:56.089600",
     "exception": false,
     "start_time": "2021-07-18T18:21:55.899072",
     "status": "completed"
    },
    "tags": []
   },
   "outputs": [
    {
     "data": {
      "text/plain": [
       "PreTrainedTokenizerFast(name_or_path='../input/robertabaseweights2/result/roberta-tokenizer', vocab_size=50265, model_max_len=1000000000000000019884624838656, is_fast=True, padding_side='right', special_tokens={'bos_token': '<s>', 'eos_token': '</s>', 'unk_token': '<unk>', 'sep_token': '</s>', 'pad_token': '<pad>', 'cls_token': '<s>', 'mask_token': AddedToken(\"<mask>\", rstrip=False, lstrip=True, single_word=False, normalized=False)})"
      ]
     },
     "execution_count": 9,
     "metadata": {},
     "output_type": "execute_result"
    }
   ],
   "source": [
    "tokenizer = RobertaTokenizerFast.from_pretrained(\"../input/robertabaseweights2/result/roberta-tokenizer\")\n",
    "tokenizer"
   ]
  },
  {
   "cell_type": "markdown",
   "id": "emotional-charm",
   "metadata": {
    "papermill": {
     "duration": 0.035367,
     "end_time": "2021-07-18T18:21:56.161167",
     "exception": false,
     "start_time": "2021-07-18T18:21:56.125800",
     "status": "completed"
    },
    "tags": []
   },
   "source": [
    "# Tokenize words"
   ]
  },
  {
   "cell_type": "code",
   "execution_count": 10,
   "id": "moral-locking",
   "metadata": {
    "execution": {
     "iopub.execute_input": "2021-07-18T18:21:56.240208Z",
     "iopub.status.busy": "2021-07-18T18:21:56.238956Z",
     "iopub.status.idle": "2021-07-18T18:21:58.123572Z",
     "shell.execute_reply": "2021-07-18T18:21:58.122969Z",
     "shell.execute_reply.started": "2021-07-18T18:15:47.140922Z"
    },
    "papermill": {
     "duration": 1.927603,
     "end_time": "2021-07-18T18:21:58.123722",
     "exception": false,
     "start_time": "2021-07-18T18:21:56.196119",
     "status": "completed"
    },
    "tags": []
   },
   "outputs": [],
   "source": [
    "train_embeddings = tokenizer(X, truncation = True , padding ='max_length' , max_length=max_len)\n",
    "test_embeddings = tokenizer(X_test,  truncation = True , padding = 'max_length'  ,max_length =max_len)"
   ]
  },
  {
   "cell_type": "code",
   "execution_count": 11,
   "id": "electronic-attachment",
   "metadata": {
    "execution": {
     "iopub.execute_input": "2021-07-18T18:21:58.200168Z",
     "iopub.status.busy": "2021-07-18T18:21:58.199118Z",
     "iopub.status.idle": "2021-07-18T18:21:58.203866Z",
     "shell.execute_reply": "2021-07-18T18:21:58.203313Z",
     "shell.execute_reply.started": "2021-07-18T18:15:48.627248Z"
    },
    "papermill": {
     "duration": 0.045056,
     "end_time": "2021-07-18T18:21:58.204012",
     "exception": false,
     "start_time": "2021-07-18T18:21:58.158956",
     "status": "completed"
    },
    "tags": []
   },
   "outputs": [
    {
     "data": {
      "text/plain": [
       "(250, 250)"
      ]
     },
     "execution_count": 11,
     "metadata": {},
     "output_type": "execute_result"
    }
   ],
   "source": [
    "len(train_embeddings['input_ids'][6]),len(test_embeddings['input_ids'][6])"
   ]
  },
  {
   "cell_type": "code",
   "execution_count": 12,
   "id": "common-google",
   "metadata": {
    "execution": {
     "iopub.execute_input": "2021-07-18T18:21:58.305684Z",
     "iopub.status.busy": "2021-07-18T18:21:58.304555Z",
     "iopub.status.idle": "2021-07-18T18:21:58.308371Z",
     "shell.execute_reply": "2021-07-18T18:21:58.308882Z",
     "shell.execute_reply.started": "2021-07-18T18:15:48.636510Z"
    },
    "papermill": {
     "duration": 0.06908,
     "end_time": "2021-07-18T18:21:58.309057",
     "exception": false,
     "start_time": "2021-07-18T18:21:58.239977",
     "status": "completed"
    },
    "tags": []
   },
   "outputs": [],
   "source": [
    "@tf.function\n",
    "def map_function(encodings , target):\n",
    "    input_ids = encodings['input_ids']\n",
    "    attention_mask = encodings['attention_mask']\n",
    "    \n",
    "    target = tf.cast(target, tf.float32 )\n",
    "    \n",
    "    return {'input_ids': input_ids , 'attention_mask': attention_mask}, target\n",
    "\n",
    "\n",
    "\n",
    "@tf.function\n",
    "def map_function_test(encodings):\n",
    "    input_ids = encodings['input_ids']\n",
    "    attention_mask = encodings['attention_mask']\n",
    "    \n",
    "    return {'input_ids': input_ids , 'attention_mask': attention_mask}"
   ]
  },
  {
   "cell_type": "code",
   "execution_count": 13,
   "id": "faced-surprise",
   "metadata": {
    "execution": {
     "iopub.execute_input": "2021-07-18T18:21:58.462931Z",
     "iopub.status.busy": "2021-07-18T18:21:58.461755Z",
     "iopub.status.idle": "2021-07-18T18:22:10.851076Z",
     "shell.execute_reply": "2021-07-18T18:22:10.849921Z",
     "shell.execute_reply.started": "2021-07-18T18:15:48.645780Z"
    },
    "papermill": {
     "duration": 12.468773,
     "end_time": "2021-07-18T18:22:10.851262",
     "exception": false,
     "start_time": "2021-07-18T18:21:58.382489",
     "status": "completed"
    },
    "tags": []
   },
   "outputs": [],
   "source": [
    "train = tf.data.Dataset.from_tensor_slices((train_embeddings,y))\n",
    "\n",
    "train = (\n",
    "        train\n",
    "        .map(map_function, num_parallel_calls=AUTOTUNE)\n",
    "        .batch(32)\n",
    "        .prefetch(AUTOTUNE)\n",
    "    )\n",
    "\n",
    "\n",
    "test = tf.data.Dataset.from_tensor_slices((test_embeddings))\n",
    "\n",
    "test = (\n",
    "    test\n",
    "    .map(map_function_test, num_parallel_calls = AUTOTUNE)\n",
    "    .batch(32)\n",
    "    .prefetch(AUTOTUNE)\n",
    ")"
   ]
  },
  {
   "cell_type": "markdown",
   "id": "julian-capacity",
   "metadata": {
    "papermill": {
     "duration": 0.03568,
     "end_time": "2021-07-18T18:22:10.923707",
     "exception": false,
     "start_time": "2021-07-18T18:22:10.888027",
     "status": "completed"
    },
    "tags": []
   },
   "source": [
    "# Loading Model (Roberta Large)"
   ]
  },
  {
   "cell_type": "code",
   "execution_count": 14,
   "id": "funded-animal",
   "metadata": {
    "execution": {
     "iopub.execute_input": "2021-07-18T18:22:11.013256Z",
     "iopub.status.busy": "2021-07-18T18:22:11.012296Z",
     "iopub.status.idle": "2021-07-18T18:22:11.015436Z",
     "shell.execute_reply": "2021-07-18T18:22:11.015971Z",
     "shell.execute_reply.started": "2021-07-18T18:15:55.291099Z"
    },
    "papermill": {
     "duration": 0.056182,
     "end_time": "2021-07-18T18:22:11.016146",
     "exception": false,
     "start_time": "2021-07-18T18:22:10.959964",
     "status": "completed"
    },
    "tags": []
   },
   "outputs": [],
   "source": [
    "class RobertaBlock(Layer):\n",
    "    def __init__(self, max_len ,name):\n",
    "        super(RobertaBlock , self).__init__()\n",
    "        self.config = AutoConfig.from_pretrained(name)\n",
    "        self.config.update({\"output_hidden_states\":True})\n",
    "        self.roberta_model = TFAutoModel.from_pretrained(name , config = self.config)\n",
    "        self.dense = Dense(1, activation='linear')\n",
    "        \n",
    "    def call(self,input_tensors):\n",
    "        input_id = input_tensors[0]\n",
    "        attention_mask = input_tensors[1]\n",
    "        roberta_output = self.roberta_model.roberta(input_ids = input_id , attention_mask = attention_mask)\n",
    "        roberta_output = roberta_output.hidden_states[-1]\n",
    "        return roberta_output\n",
    "\n",
    "class RegressionHead(Layer):\n",
    "    def __init__(self):\n",
    "        super(RegressionHead , self).__init__()\n",
    "        self.dense = Dense(1, activation=\"linear\")\n",
    "    \n",
    "    def call(self , input_tensors):\n",
    "        x = self.dense(input_tensors)\n",
    "        return x\n",
    "        \n",
    "class AttentionHead(Layer):\n",
    "    def __init__(self):\n",
    "        super(AttentionHead , self).__init__()\n",
    "        self.dense1 = Dense(512)\n",
    "        self.tanh =  tanh\n",
    "        self.softmax = softmax\n",
    "        self.dense2 = Dense(1,activation=\"softmax\")\n",
    "\n",
    "    def call(self , input_tensors):\n",
    "        x = self.dense1(input_tensors)\n",
    "        x = self.tanh(x)\n",
    "        x = self.dense2(x)\n",
    "        x = self.softmax(x , axis = 1)\n",
    "        return x  \n",
    "\n",
    "class CLRModel(Model):\n",
    "    def __init__(self,max_len,name):\n",
    "        super(CLRModel, self).__init__()\n",
    "        self.roberta_model = RobertaBlock(max_len , name)\n",
    "        self.attentionhead = AttentionHead()\n",
    "        self.regressionhead = RegressionHead()\n",
    "    \n",
    "    def call(self,input_tensors):\n",
    "        roberta_output = self.roberta_model(input_tensors)\n",
    "        #print('shape of roberta output is' , roberta_output.shape)\n",
    "        weights = self.attentionhead(roberta_output)\n",
    "        #print('shape of attention head is',weights.shape)\n",
    "        context_vector = tf.reduce_sum(weights * roberta_output, axis=1)\n",
    "        #print(\"shape of context vector\" , context_vector.shape)\n",
    "        x = self.regressionhead(context_vector)\n",
    "        return x\n",
    "    \n",
    "    def model(self):\n",
    "        input_id = Input(shape = (max_len, ) ,dtype=tf.int32, name = 'input_ids')\n",
    "        attention_mask = Input(shape=(max_len,) ,dtype=tf.int32, name = 'attention_mask')\n",
    "        \n",
    "        return Model(inputs = [input_id , attention_mask] , outputs = self.call([input_id , attention_mask]))"
   ]
  },
  {
   "cell_type": "code",
   "execution_count": 15,
   "id": "future-screw",
   "metadata": {
    "execution": {
     "iopub.execute_input": "2021-07-18T18:22:11.092065Z",
     "iopub.status.busy": "2021-07-18T18:22:11.090980Z",
     "iopub.status.idle": "2021-07-18T18:22:11.094579Z",
     "shell.execute_reply": "2021-07-18T18:22:11.093979Z",
     "shell.execute_reply.started": "2021-07-18T18:15:55.307949Z"
    },
    "papermill": {
     "duration": 0.043364,
     "end_time": "2021-07-18T18:22:11.094756",
     "exception": false,
     "start_time": "2021-07-18T18:22:11.051392",
     "status": "completed"
    },
    "tags": []
   },
   "outputs": [],
   "source": [
    "def load_model_weights(model, path):\n",
    "    print(\"loading weights\")\n",
    "    model.load_weights(path)\n",
    "    return model"
   ]
  },
  {
   "cell_type": "code",
   "execution_count": 16,
   "id": "agricultural-coach",
   "metadata": {
    "execution": {
     "iopub.execute_input": "2021-07-18T18:22:11.171701Z",
     "iopub.status.busy": "2021-07-18T18:22:11.170847Z",
     "iopub.status.idle": "2021-07-18T18:23:26.419212Z",
     "shell.execute_reply": "2021-07-18T18:23:26.419819Z",
     "shell.execute_reply.started": "2021-07-18T18:15:55.320762Z"
    },
    "papermill": {
     "duration": 75.289391,
     "end_time": "2021-07-18T18:23:26.420038",
     "exception": false,
     "start_time": "2021-07-18T18:22:11.130647",
     "status": "completed"
    },
    "tags": []
   },
   "outputs": [
    {
     "name": "stderr",
     "output_type": "stream",
     "text": [
      "Some layers from the model checkpoint at ../input/huggingface-roberta/roberta-large were not used when initializing TFRobertaModel: ['lm_head']\n",
      "- This IS expected if you are initializing TFRobertaModel from the checkpoint of a model trained on another task or with another architecture (e.g. initializing a BertForSequenceClassification model from a BertForPreTraining model).\n",
      "- This IS NOT expected if you are initializing TFRobertaModel from the checkpoint of a model that you expect to be exactly identical (initializing a BertForSequenceClassification model from a BertForSequenceClassification model).\n",
      "All the layers of TFRobertaModel were initialized from the model checkpoint at ../input/huggingface-roberta/roberta-large.\n",
      "If your task is similar to the task the model of the checkpoint was trained on, you can already use TFRobertaModel for predictions without further training.\n"
     ]
    },
    {
     "name": "stdout",
     "output_type": "stream",
     "text": [
      "loading weights\n",
      "loading weights\n",
      "loading weights\n",
      "loading weights\n",
      "loading weights\n"
     ]
    }
   ],
   "source": [
    "file_path = \"../input/robertabaseweights2/result/*.h5\"\n",
    "model_weight_paths = glob(file_path)\n",
    "model_weight_paths = sorted(model_weight_paths)\n",
    "\n",
    "\n",
    "# json_path = \"../input/robertabaseweights/model_structure.json\"\n",
    "# model_structure= load_model_from_json(json_path)\n",
    "\n",
    "model_path = \"../input/huggingface-roberta/roberta-large\"\n",
    "model = CLRModel(max_len , model_path).model()\n",
    "\n",
    "model1 = load_model_weights(model , model_weight_paths[0])\n",
    "model2 = load_model_weights(model , model_weight_paths[1])\n",
    "model3 = load_model_weights(model , model_weight_paths[2])\n",
    "model4 = load_model_weights(model , model_weight_paths[3])\n",
    "model5 = load_model_weights(model , model_weight_paths[4])"
   ]
  },
  {
   "cell_type": "code",
   "execution_count": 17,
   "id": "aggressive-fundamental",
   "metadata": {
    "execution": {
     "iopub.execute_input": "2021-07-18T18:23:26.612861Z",
     "iopub.status.busy": "2021-07-18T18:23:26.611701Z",
     "iopub.status.idle": "2021-07-18T18:23:35.049877Z",
     "shell.execute_reply": "2021-07-18T18:23:35.049321Z",
     "shell.execute_reply.started": "2021-07-18T18:17:23.558199Z"
    },
    "papermill": {
     "duration": 8.518968,
     "end_time": "2021-07-18T18:23:35.050028",
     "exception": false,
     "start_time": "2021-07-18T18:23:26.531060",
     "status": "completed"
    },
    "tags": []
   },
   "outputs": [
    {
     "name": "stdout",
     "output_type": "stream",
     "text": [
      "1/1 [==============================] - 7s 7s/step\n",
      "1/1 [==============================] - 0s 288ms/step\n",
      "1/1 [==============================] - 0s 275ms/step\n",
      "1/1 [==============================] - 0s 287ms/step\n",
      "1/1 [==============================] - 0s 274ms/step\n"
     ]
    }
   ],
   "source": [
    "y_pred_1 = model1.predict(test , verbose = 1)\n",
    "y_pred_2 = model2.predict(test , verbose = 1)\n",
    "y_pred_3 = model3.predict(test, verbose = 1)\n",
    "y_pred_4 = model4.predict(test, verbose = 1)\n",
    "y_pred_5 = model5.predict(test, verbose = 1)"
   ]
  },
  {
   "cell_type": "code",
   "execution_count": 18,
   "id": "present-federal",
   "metadata": {
    "execution": {
     "iopub.execute_input": "2021-07-18T18:23:35.138784Z",
     "iopub.status.busy": "2021-07-18T18:23:35.137925Z",
     "iopub.status.idle": "2021-07-18T18:23:35.141926Z",
     "shell.execute_reply": "2021-07-18T18:23:35.142500Z",
     "shell.execute_reply.started": "2021-07-18T18:17:30.156937Z"
    },
    "papermill": {
     "duration": 0.050854,
     "end_time": "2021-07-18T18:23:35.142652",
     "exception": false,
     "start_time": "2021-07-18T18:23:35.091798",
     "status": "completed"
    },
    "tags": []
   },
   "outputs": [],
   "source": [
    "sub_scores_large=[]\n",
    "for i,j,k,l,m in zip(y_pred_1,y_pred_2,y_pred_3,y_pred_4,y_pred_5):\n",
    "    sub_scores_large.append(np.mean([i[0],j[0],k[0],l[0],m[0]]))"
   ]
  },
  {
   "cell_type": "code",
   "execution_count": 19,
   "id": "significant-shaft",
   "metadata": {
    "execution": {
     "iopub.execute_input": "2021-07-18T18:23:35.230378Z",
     "iopub.status.busy": "2021-07-18T18:23:35.229201Z",
     "iopub.status.idle": "2021-07-18T18:23:35.234763Z",
     "shell.execute_reply": "2021-07-18T18:23:35.234259Z",
     "shell.execute_reply.started": "2021-07-18T18:17:30.165924Z"
    },
    "papermill": {
     "duration": 0.051216,
     "end_time": "2021-07-18T18:23:35.234909",
     "exception": false,
     "start_time": "2021-07-18T18:23:35.183693",
     "status": "completed"
    },
    "tags": []
   },
   "outputs": [
    {
     "data": {
      "text/plain": [
       "[-0.24748954,\n",
       " -0.3806158,\n",
       " -0.46389237,\n",
       " -2.1861167,\n",
       " -1.8510664,\n",
       " -1.0882217,\n",
       " 0.03516417]"
      ]
     },
     "execution_count": 19,
     "metadata": {},
     "output_type": "execute_result"
    }
   ],
   "source": [
    "sub_scores_large"
   ]
  },
  {
   "cell_type": "markdown",
   "id": "valued-pharmaceutical",
   "metadata": {
    "papermill": {
     "duration": 0.05408,
     "end_time": "2021-07-18T18:23:35.357847",
     "exception": false,
     "start_time": "2021-07-18T18:23:35.303767",
     "status": "completed"
    },
    "tags": []
   },
   "source": [
    "# Roberta Base"
   ]
  },
  {
   "cell_type": "markdown",
   "id": "independent-merchandise",
   "metadata": {
    "papermill": {
     "duration": 0.040699,
     "end_time": "2021-07-18T18:23:35.441016",
     "exception": false,
     "start_time": "2021-07-18T18:23:35.400317",
     "status": "completed"
    },
    "tags": []
   },
   "source": [
    "# Initialise Tokenizer Roberta Base"
   ]
  },
  {
   "cell_type": "code",
   "execution_count": 20,
   "id": "attached-crystal",
   "metadata": {
    "execution": {
     "iopub.execute_input": "2021-07-18T18:23:35.528246Z",
     "iopub.status.busy": "2021-07-18T18:23:35.527544Z",
     "iopub.status.idle": "2021-07-18T18:23:35.693982Z",
     "shell.execute_reply": "2021-07-18T18:23:35.694891Z",
     "shell.execute_reply.started": "2021-07-18T18:17:30.179885Z"
    },
    "papermill": {
     "duration": 0.211998,
     "end_time": "2021-07-18T18:23:35.695084",
     "exception": false,
     "start_time": "2021-07-18T18:23:35.483086",
     "status": "completed"
    },
    "tags": []
   },
   "outputs": [
    {
     "data": {
      "text/plain": [
       "PreTrainedTokenizerFast(name_or_path='../input/robertabaseweights/result/roberta-tokenizer', vocab_size=50265, model_max_len=512, is_fast=True, padding_side='right', special_tokens={'bos_token': '<s>', 'eos_token': '</s>', 'unk_token': '<unk>', 'sep_token': '</s>', 'pad_token': '<pad>', 'cls_token': '<s>', 'mask_token': AddedToken(\"<mask>\", rstrip=False, lstrip=True, single_word=False, normalized=False)})"
      ]
     },
     "execution_count": 20,
     "metadata": {},
     "output_type": "execute_result"
    }
   ],
   "source": [
    "tokenizer = RobertaTokenizerFast.from_pretrained(\"../input/robertabaseweights/result/roberta-tokenizer\")\n",
    "tokenizer"
   ]
  },
  {
   "cell_type": "markdown",
   "id": "impressed-elder",
   "metadata": {
    "papermill": {
     "duration": 0.041522,
     "end_time": "2021-07-18T18:23:35.779802",
     "exception": false,
     "start_time": "2021-07-18T18:23:35.738280",
     "status": "completed"
    },
    "tags": []
   },
   "source": [
    "# Tokenize words"
   ]
  },
  {
   "cell_type": "code",
   "execution_count": 21,
   "id": "beneficial-glasgow",
   "metadata": {
    "execution": {
     "iopub.execute_input": "2021-07-18T18:23:35.872349Z",
     "iopub.status.busy": "2021-07-18T18:23:35.871406Z",
     "iopub.status.idle": "2021-07-18T18:23:38.091624Z",
     "shell.execute_reply": "2021-07-18T18:23:38.090194Z",
     "shell.execute_reply.started": "2021-07-18T18:17:30.327482Z"
    },
    "papermill": {
     "duration": 2.268464,
     "end_time": "2021-07-18T18:23:38.091840",
     "exception": false,
     "start_time": "2021-07-18T18:23:35.823376",
     "status": "completed"
    },
    "tags": []
   },
   "outputs": [],
   "source": [
    "train_embeddings = tokenizer(X, truncation = True , padding ='max_length' , max_length=max_len)\n",
    "test_embeddings = tokenizer(X_test,  truncation = True , padding = 'max_length'  ,max_length =max_len)"
   ]
  },
  {
   "cell_type": "code",
   "execution_count": 22,
   "id": "involved-establishment",
   "metadata": {
    "execution": {
     "iopub.execute_input": "2021-07-18T18:23:38.253026Z",
     "iopub.status.busy": "2021-07-18T18:23:38.242735Z",
     "iopub.status.idle": "2021-07-18T18:23:43.707199Z",
     "shell.execute_reply": "2021-07-18T18:23:43.706633Z",
     "shell.execute_reply.started": "2021-07-18T18:17:32.394259Z"
    },
    "papermill": {
     "duration": 5.540711,
     "end_time": "2021-07-18T18:23:43.707363",
     "exception": false,
     "start_time": "2021-07-18T18:23:38.166652",
     "status": "completed"
    },
    "tags": []
   },
   "outputs": [],
   "source": [
    "train = tf.data.Dataset.from_tensor_slices((train_embeddings,y))\n",
    "\n",
    "train = (\n",
    "        train\n",
    "        .map(map_function, num_parallel_calls=AUTOTUNE)\n",
    "        .batch(32)\n",
    "        .prefetch(AUTOTUNE)\n",
    "    )\n",
    "\n",
    "\n",
    "test = tf.data.Dataset.from_tensor_slices((test_embeddings))\n",
    "\n",
    "test = (\n",
    "    test\n",
    "    .map(map_function_test, num_parallel_calls = AUTOTUNE)\n",
    "    .batch(32)\n",
    "    .prefetch(AUTOTUNE)\n",
    ")"
   ]
  },
  {
   "cell_type": "markdown",
   "id": "falling-charger",
   "metadata": {
    "papermill": {
     "duration": 0.042001,
     "end_time": "2021-07-18T18:23:43.791723",
     "exception": false,
     "start_time": "2021-07-18T18:23:43.749722",
     "status": "completed"
    },
    "tags": []
   },
   "source": [
    "# Loading Model (Roberta Base)"
   ]
  },
  {
   "cell_type": "code",
   "execution_count": 23,
   "id": "revised-perfume",
   "metadata": {
    "execution": {
     "iopub.execute_input": "2021-07-18T18:23:43.894991Z",
     "iopub.status.busy": "2021-07-18T18:23:43.894023Z",
     "iopub.status.idle": "2021-07-18T18:23:43.898840Z",
     "shell.execute_reply": "2021-07-18T18:23:43.898181Z",
     "shell.execute_reply.started": "2021-07-18T18:17:36.920692Z"
    },
    "papermill": {
     "duration": 0.064243,
     "end_time": "2021-07-18T18:23:43.898995",
     "exception": false,
     "start_time": "2021-07-18T18:23:43.834752",
     "status": "completed"
    },
    "tags": []
   },
   "outputs": [],
   "source": [
    "class RobertaBlock(Layer):\n",
    "    def __init__(self, max_len ,name):\n",
    "        super(RobertaBlock , self).__init__()\n",
    "        self.config = AutoConfig.from_pretrained(name)\n",
    "        self.config.update({\"output_hidden_states\":True})\n",
    "        self.roberta_model = TFAutoModel.from_pretrained(name , config = self.config)\n",
    "        self.dense = Dense(1, activation='linear')\n",
    "        \n",
    "    def call(self,input_tensors):\n",
    "        input_id = input_tensors[0]\n",
    "        attention_mask = input_tensors[1]\n",
    "        roberta_output = self.roberta_model.roberta(input_ids = input_id , attention_mask = attention_mask)\n",
    "        roberta_output = roberta_output.hidden_states[-1]\n",
    "        return roberta_output\n",
    "\n",
    "class RegressionHead(Layer):\n",
    "    def __init__(self):\n",
    "        super(RegressionHead , self).__init__()\n",
    "        self.dense = Dense(1, activation=\"linear\")\n",
    "    \n",
    "    def call(self , input_tensors):\n",
    "        x = self.dense(input_tensors)\n",
    "        return x\n",
    "        \n",
    "class AttentionHead(Layer):\n",
    "    def __init__(self):\n",
    "        super(AttentionHead , self).__init__()\n",
    "        self.dense1 = Dense(512)\n",
    "        self.tanh =  tanh\n",
    "        self.softmax = softmax\n",
    "        self.dense2 = Dense(1,activation=\"softmax\")\n",
    "\n",
    "    def call(self , input_tensors):\n",
    "        x = self.dense1(input_tensors)\n",
    "        x = self.tanh(x)\n",
    "        x = self.dense2(x)\n",
    "        x = self.softmax(x , axis = 1)\n",
    "        return x  \n",
    "\n",
    "class CLRModel(Model):\n",
    "    def __init__(self,max_len,name):\n",
    "        super(CLRModel, self).__init__()\n",
    "        self.roberta_model = RobertaBlock(max_len , name)\n",
    "        self.attentionhead = AttentionHead()\n",
    "        self.regressionhead = RegressionHead()\n",
    "    \n",
    "    def call(self,input_tensors):\n",
    "        roberta_output = self.roberta_model(input_tensors)\n",
    "        #print('shape of roberta output is' , roberta_output.shape)\n",
    "        weights = self.attentionhead(roberta_output)\n",
    "        #print('shape of attention head is',weights.shape)\n",
    "        context_vector = tf.reduce_sum(weights * roberta_output, axis=1)\n",
    "        #print(\"shape of context vector\" , context_vector.shape)\n",
    "        x = self.regressionhead(context_vector)\n",
    "        return x\n",
    "    \n",
    "    def model(self):\n",
    "        input_id = Input(shape = (max_len, ) ,dtype=tf.int32, name = 'input_ids')\n",
    "        attention_mask = Input(shape=(max_len,) ,dtype=tf.int32, name = 'attention_mask')\n",
    "        \n",
    "        return Model(inputs = [input_id , attention_mask] , outputs = self.call([input_id , attention_mask]))"
   ]
  },
  {
   "cell_type": "code",
   "execution_count": 24,
   "id": "alpha-string",
   "metadata": {
    "execution": {
     "iopub.execute_input": "2021-07-18T18:23:43.988327Z",
     "iopub.status.busy": "2021-07-18T18:23:43.987130Z",
     "iopub.status.idle": "2021-07-18T18:23:43.990181Z",
     "shell.execute_reply": "2021-07-18T18:23:43.990801Z",
     "shell.execute_reply.started": "2021-07-18T18:17:36.937744Z"
    },
    "papermill": {
     "duration": 0.049222,
     "end_time": "2021-07-18T18:23:43.990950",
     "exception": false,
     "start_time": "2021-07-18T18:23:43.941728",
     "status": "completed"
    },
    "tags": []
   },
   "outputs": [],
   "source": [
    "def load_model_weights(model, path):\n",
    "    print(\"loading weights\")\n",
    "    model.load_weights(path)\n",
    "    return model"
   ]
  },
  {
   "cell_type": "code",
   "execution_count": 25,
   "id": "dense-timeline",
   "metadata": {
    "execution": {
     "iopub.execute_input": "2021-07-18T18:23:44.081078Z",
     "iopub.status.busy": "2021-07-18T18:23:44.080442Z",
     "iopub.status.idle": "2021-07-18T18:24:10.544113Z",
     "shell.execute_reply": "2021-07-18T18:24:10.545737Z",
     "shell.execute_reply.started": "2021-07-18T18:17:36.953165Z"
    },
    "papermill": {
     "duration": 26.512993,
     "end_time": "2021-07-18T18:24:10.546021",
     "exception": false,
     "start_time": "2021-07-18T18:23:44.033028",
     "status": "completed"
    },
    "tags": []
   },
   "outputs": [
    {
     "name": "stderr",
     "output_type": "stream",
     "text": [
      "Some layers from the model checkpoint at ../input/huggingface-roberta/roberta-base were not used when initializing TFRobertaModel: ['lm_head']\n",
      "- This IS expected if you are initializing TFRobertaModel from the checkpoint of a model trained on another task or with another architecture (e.g. initializing a BertForSequenceClassification model from a BertForPreTraining model).\n",
      "- This IS NOT expected if you are initializing TFRobertaModel from the checkpoint of a model that you expect to be exactly identical (initializing a BertForSequenceClassification model from a BertForSequenceClassification model).\n",
      "All the layers of TFRobertaModel were initialized from the model checkpoint at ../input/huggingface-roberta/roberta-base.\n",
      "If your task is similar to the task the model of the checkpoint was trained on, you can already use TFRobertaModel for predictions without further training.\n"
     ]
    },
    {
     "name": "stdout",
     "output_type": "stream",
     "text": [
      "loading weights\n",
      "loading weights\n",
      "loading weights\n",
      "loading weights\n",
      "loading weights\n"
     ]
    }
   ],
   "source": [
    "file_path = \"../input/robertabaseweights/result/*.h5\"\n",
    "model_weight_paths = glob(file_path)\n",
    "model_weight_paths = sorted(model_weight_paths)\n",
    "\n",
    "\n",
    "# json_path = \"../input/robertabaseweights/model_structure.json\"\n",
    "# model_structure= load_model_from_json(json_path)\n",
    "\n",
    "model_path = \"../input/huggingface-roberta/roberta-base\"\n",
    "model = CLRModel(max_len , model_path).model()\n",
    "\n",
    "model1 = load_model_weights(model , model_weight_paths[0])\n",
    "model2 = load_model_weights(model , model_weight_paths[1])\n",
    "model3 = load_model_weights(model , model_weight_paths[2])\n",
    "model4 = load_model_weights(model , model_weight_paths[3])\n",
    "model5 = load_model_weights(model , model_weight_paths[4])"
   ]
  },
  {
   "cell_type": "code",
   "execution_count": 26,
   "id": "southwest-strategy",
   "metadata": {
    "execution": {
     "iopub.execute_input": "2021-07-18T18:24:10.754745Z",
     "iopub.status.busy": "2021-07-18T18:24:10.751364Z",
     "iopub.status.idle": "2021-07-18T18:24:15.063288Z",
     "shell.execute_reply": "2021-07-18T18:24:15.063811Z",
     "shell.execute_reply.started": "2021-07-18T18:18:08.348652Z"
    },
    "papermill": {
     "duration": 4.411486,
     "end_time": "2021-07-18T18:24:15.064064",
     "exception": false,
     "start_time": "2021-07-18T18:24:10.652578",
     "status": "completed"
    },
    "tags": []
   },
   "outputs": [
    {
     "name": "stdout",
     "output_type": "stream",
     "text": [
      "1/1 [==============================] - 4s 4s/step\n",
      "1/1 [==============================] - 0s 120ms/step\n",
      "1/1 [==============================] - 0s 122ms/step\n",
      "1/1 [==============================] - 0s 115ms/step\n",
      "1/1 [==============================] - 0s 116ms/step\n"
     ]
    }
   ],
   "source": [
    "y_pred_1 = model1.predict(test , verbose = 1)\n",
    "y_pred_2 = model2.predict(test , verbose = 1)\n",
    "y_pred_3 = model3.predict(test, verbose = 1)\n",
    "y_pred_4 = model4.predict(test, verbose = 1)\n",
    "y_pred_5 = model5.predict(test, verbose = 1)"
   ]
  },
  {
   "cell_type": "code",
   "execution_count": 27,
   "id": "amber-neighborhood",
   "metadata": {
    "execution": {
     "iopub.execute_input": "2021-07-18T18:24:15.168642Z",
     "iopub.status.busy": "2021-07-18T18:24:15.167798Z",
     "iopub.status.idle": "2021-07-18T18:24:15.171709Z",
     "shell.execute_reply": "2021-07-18T18:24:15.172219Z",
     "shell.execute_reply.started": "2021-07-18T18:18:11.838531Z"
    },
    "papermill": {
     "duration": 0.059883,
     "end_time": "2021-07-18T18:24:15.172372",
     "exception": false,
     "start_time": "2021-07-18T18:24:15.112489",
     "status": "completed"
    },
    "tags": []
   },
   "outputs": [],
   "source": [
    "sub_scores_base=[]\n",
    "for i,j,k,l,m in zip(y_pred_1,y_pred_2,y_pred_3,y_pred_4,y_pred_5):\n",
    "    sub_scores_base.append(np.mean([i[0],j[0],k[0],l[0],m[0]]))"
   ]
  },
  {
   "cell_type": "code",
   "execution_count": 28,
   "id": "boolean-steel",
   "metadata": {
    "execution": {
     "iopub.execute_input": "2021-07-18T18:24:15.289353Z",
     "iopub.status.busy": "2021-07-18T18:24:15.288406Z",
     "iopub.status.idle": "2021-07-18T18:24:15.292865Z",
     "shell.execute_reply": "2021-07-18T18:24:15.293411Z",
     "shell.execute_reply.started": "2021-07-18T18:18:11.846579Z"
    },
    "papermill": {
     "duration": 0.072054,
     "end_time": "2021-07-18T18:24:15.293562",
     "exception": false,
     "start_time": "2021-07-18T18:24:15.221508",
     "status": "completed"
    },
    "tags": []
   },
   "outputs": [
    {
     "data": {
      "text/plain": [
       "[-0.25744697,\n",
       " -0.75019026,\n",
       " -0.26408705,\n",
       " -2.3996625,\n",
       " -1.7920555,\n",
       " -0.9720818,\n",
       " 0.21897867]"
      ]
     },
     "execution_count": 28,
     "metadata": {},
     "output_type": "execute_result"
    }
   ],
   "source": [
    "sub_scores_base"
   ]
  },
  {
   "cell_type": "markdown",
   "id": "typical-scientist",
   "metadata": {
    "papermill": {
     "duration": 0.048988,
     "end_time": "2021-07-18T18:24:15.391015",
     "exception": false,
     "start_time": "2021-07-18T18:24:15.342027",
     "status": "completed"
    },
    "tags": []
   },
   "source": [
    "# Final Submission "
   ]
  },
  {
   "cell_type": "code",
   "execution_count": 29,
   "id": "italic-bangladesh",
   "metadata": {
    "execution": {
     "iopub.execute_input": "2021-07-18T18:24:15.495770Z",
     "iopub.status.busy": "2021-07-18T18:24:15.493592Z",
     "iopub.status.idle": "2021-07-18T18:24:15.496668Z",
     "shell.execute_reply": "2021-07-18T18:24:15.497218Z",
     "shell.execute_reply.started": "2021-07-18T18:18:44.354301Z"
    },
    "papermill": {
     "duration": 0.058624,
     "end_time": "2021-07-18T18:24:15.497369",
     "exception": false,
     "start_time": "2021-07-18T18:24:15.438745",
     "status": "completed"
    },
    "tags": []
   },
   "outputs": [],
   "source": [
    "large_factor = 0.5 \n",
    "base_factor = 0.5\n",
    "sub_scores = []\n",
    "for i,j in zip(sub_scores_large, sub_scores_base):\n",
    "    k = (large_factor * i) + (base_factor * j)\n",
    "    sub_scores.append(k)"
   ]
  },
  {
   "cell_type": "code",
   "execution_count": 30,
   "id": "encouraging-lighter",
   "metadata": {
    "execution": {
     "iopub.execute_input": "2021-07-18T18:24:15.600683Z",
     "iopub.status.busy": "2021-07-18T18:24:15.599839Z",
     "iopub.status.idle": "2021-07-18T18:24:15.828796Z",
     "shell.execute_reply": "2021-07-18T18:24:15.828041Z",
     "shell.execute_reply.started": "2021-07-18T18:18:45.338149Z"
    },
    "papermill": {
     "duration": 0.283418,
     "end_time": "2021-07-18T18:24:15.828958",
     "exception": false,
     "start_time": "2021-07-18T18:24:15.545540",
     "status": "completed"
    },
    "tags": []
   },
   "outputs": [
    {
     "data": {
      "text/html": [
       "<div>\n",
       "<style scoped>\n",
       "    .dataframe tbody tr th:only-of-type {\n",
       "        vertical-align: middle;\n",
       "    }\n",
       "\n",
       "    .dataframe tbody tr th {\n",
       "        vertical-align: top;\n",
       "    }\n",
       "\n",
       "    .dataframe thead th {\n",
       "        text-align: right;\n",
       "    }\n",
       "</style>\n",
       "<table border=\"1\" class=\"dataframe\">\n",
       "  <thead>\n",
       "    <tr style=\"text-align: right;\">\n",
       "      <th></th>\n",
       "      <th>id</th>\n",
       "      <th>target</th>\n",
       "    </tr>\n",
       "  </thead>\n",
       "  <tbody>\n",
       "    <tr>\n",
       "      <th>0</th>\n",
       "      <td>c0f722661</td>\n",
       "      <td>-0.252468</td>\n",
       "    </tr>\n",
       "    <tr>\n",
       "      <th>1</th>\n",
       "      <td>f0953f0a5</td>\n",
       "      <td>-0.565403</td>\n",
       "    </tr>\n",
       "    <tr>\n",
       "      <th>2</th>\n",
       "      <td>0df072751</td>\n",
       "      <td>-0.363990</td>\n",
       "    </tr>\n",
       "    <tr>\n",
       "      <th>3</th>\n",
       "      <td>04caf4e0c</td>\n",
       "      <td>-2.292890</td>\n",
       "    </tr>\n",
       "    <tr>\n",
       "      <th>4</th>\n",
       "      <td>0e63f8bea</td>\n",
       "      <td>-1.821561</td>\n",
       "    </tr>\n",
       "  </tbody>\n",
       "</table>\n",
       "</div>"
      ],
      "text/plain": [
       "          id    target\n",
       "0  c0f722661 -0.252468\n",
       "1  f0953f0a5 -0.565403\n",
       "2  0df072751 -0.363990\n",
       "3  04caf4e0c -2.292890\n",
       "4  0e63f8bea -1.821561"
      ]
     },
     "execution_count": 30,
     "metadata": {},
     "output_type": "execute_result"
    }
   ],
   "source": [
    "sub=pd.DataFrame({'id':df_ss['id'],'target':sub_scores})\n",
    "sub.to_csv('submission.csv',index=False)\n",
    "sub.head()"
   ]
  },
  {
   "cell_type": "code",
   "execution_count": null,
   "id": "tight-script",
   "metadata": {
    "execution": {
     "iopub.execute_input": "2021-07-18T18:19:09.579372Z",
     "iopub.status.busy": "2021-07-18T18:19:09.578895Z",
     "iopub.status.idle": "2021-07-18T18:19:09.603605Z",
     "shell.execute_reply": "2021-07-18T18:19:09.602246Z",
     "shell.execute_reply.started": "2021-07-18T18:19:09.579329Z"
    },
    "papermill": {
     "duration": 0.049463,
     "end_time": "2021-07-18T18:24:15.929016",
     "exception": false,
     "start_time": "2021-07-18T18:24:15.879553",
     "status": "completed"
    },
    "tags": []
   },
   "outputs": [],
   "source": []
  },
  {
   "cell_type": "code",
   "execution_count": null,
   "id": "civic-liverpool",
   "metadata": {
    "papermill": {
     "duration": 0.048166,
     "end_time": "2021-07-18T18:24:16.027049",
     "exception": false,
     "start_time": "2021-07-18T18:24:15.978883",
     "status": "completed"
    },
    "tags": []
   },
   "outputs": [],
   "source": []
  }
 ],
 "metadata": {
  "kernelspec": {
   "display_name": "Python 3",
   "language": "python",
   "name": "python3"
  },
  "language_info": {
   "codemirror_mode": {
    "name": "ipython",
    "version": 3
   },
   "file_extension": ".py",
   "mimetype": "text/x-python",
   "name": "python",
   "nbconvert_exporter": "python",
   "pygments_lexer": "ipython3",
   "version": "3.7.10"
  },
  "papermill": {
   "default_parameters": {},
   "duration": 160.967107,
   "end_time": "2021-07-18T18:24:18.919085",
   "environment_variables": {},
   "exception": null,
   "input_path": "__notebook__.ipynb",
   "output_path": "__notebook__.ipynb",
   "parameters": {},
   "start_time": "2021-07-18T18:21:37.951978",
   "version": "2.3.3"
  }
 },
 "nbformat": 4,
 "nbformat_minor": 5
}
