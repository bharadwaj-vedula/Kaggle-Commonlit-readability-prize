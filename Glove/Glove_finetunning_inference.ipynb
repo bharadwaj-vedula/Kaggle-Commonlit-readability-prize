{
 "cells": [
  {
   "cell_type": "markdown",
   "id": "necessary-flashing",
   "metadata": {
    "papermill": {
     "duration": 0.014372,
     "end_time": "2021-05-16T18:51:03.140367",
     "exception": false,
     "start_time": "2021-05-16T18:51:03.125995",
     "status": "completed"
    },
    "tags": []
   },
   "source": [
    "# Versions\n",
    "1. Version 3 - Used pretrain model weights with glove 6b \n",
    "2. Version 4 - Used pretrain model weights with glove 840d 400d"
   ]
  },
  {
   "cell_type": "code",
   "execution_count": 1,
   "id": "hollow-fellowship",
   "metadata": {
    "execution": {
     "iopub.execute_input": "2021-05-16T18:51:03.172931Z",
     "iopub.status.busy": "2021-05-16T18:51:03.171196Z",
     "iopub.status.idle": "2021-05-16T18:51:03.210849Z",
     "shell.execute_reply": "2021-05-16T18:51:03.211643Z"
    },
    "papermill": {
     "duration": 0.058315,
     "end_time": "2021-05-16T18:51:03.212019",
     "exception": false,
     "start_time": "2021-05-16T18:51:03.153704",
     "status": "completed"
    },
    "tags": []
   },
   "outputs": [
    {
     "name": "stdout",
     "output_type": "stream",
     "text": [
      "/kaggle/input/clr-glove-weights/__notebook_source__.ipynb\n",
      "/kaggle/input/clr-glove-weights/submission.csv\n",
      "/kaggle/input/clr-glove-weights/golve_840b300d.h5\n",
      "/kaggle/input/pickled-glove840b300d-for-10sec-loading/glove.840B.300d.pkl\n",
      "/kaggle/input/commonlitreadabilityprize/sample_submission.csv\n",
      "/kaggle/input/commonlitreadabilityprize/train.csv\n",
      "/kaggle/input/commonlitreadabilityprize/test.csv\n"
     ]
    }
   ],
   "source": [
    "# This Python 3 environment comes with many helpful analytics libraries installed\n",
    "# It is defined by the kaggle/python Docker image: https://github.com/kaggle/docker-python\n",
    "# For example, here's several helpful packages to load\n",
    "\n",
    "import numpy as np # linear algebra\n",
    "import pandas as pd # data processing, CSV file I/O (e.g. pd.read_csv)\n",
    "\n",
    "# Input data files are available in the read-only \"../input/\" directory\n",
    "# For example, running this (by clicking run or pressing Shift+Enter) will list all files under the input directory\n",
    "\n",
    "import os\n",
    "for dirname, _, filenames in os.walk('/kaggle/input'):\n",
    "    for filename in filenames:\n",
    "        print(os.path.join(dirname, filename))\n",
    "\n",
    "# You can write up to 20GB to the current directory (/kaggle/working/) that gets preserved as output when you create a version using \"Save & Run All\" \n",
    "# You can also write temporary files to /kaggle/temp/, but they won't be saved outside of the current session"
   ]
  },
  {
   "cell_type": "code",
   "execution_count": 2,
   "id": "geographic-rings",
   "metadata": {
    "execution": {
     "iopub.execute_input": "2021-05-16T18:51:03.247917Z",
     "iopub.status.busy": "2021-05-16T18:51:03.246956Z",
     "iopub.status.idle": "2021-05-16T18:51:11.379913Z",
     "shell.execute_reply": "2021-05-16T18:51:11.379212Z"
    },
    "papermill": {
     "duration": 8.154127,
     "end_time": "2021-05-16T18:51:11.380113",
     "exception": false,
     "start_time": "2021-05-16T18:51:03.225986",
     "status": "completed"
    },
    "tags": []
   },
   "outputs": [],
   "source": [
    "import pandas as pd \n",
    "import numpy as np \n",
    "from tqdm import tqdm\n",
    "import re\n",
    "\n",
    "from sklearn.model_selection import train_test_split,KFold\n",
    "from sklearn.metrics import mean_squared_error\n",
    "\n",
    "import nltk\n",
    "from nltk.corpus import stopwords\n",
    "\n",
    "import tensorflow as tf\n",
    "from tensorflow.keras.layers import LSTM,RNN,Conv2D,Dense,Flatten,GlobalAveragePooling2D,Embedding,Bidirectional,Input,Dropout,Conv1D,MaxPooling1D\n",
    "from tensorflow.keras.models import Model\n",
    "from tensorflow.keras.preprocessing.text import Tokenizer\n",
    "from tensorflow.keras.preprocessing.sequence import pad_sequences\n",
    "from tensorflow.keras.callbacks import ModelCheckpoint,ReduceLROnPlateau, EarlyStopping\n",
    "from tensorflow.keras.optimizers import Adam,SGD\n",
    "\n",
    "\n",
    "SEED=42"
   ]
  },
  {
   "cell_type": "code",
   "execution_count": 3,
   "id": "constitutional-turner",
   "metadata": {
    "execution": {
     "iopub.execute_input": "2021-05-16T18:51:11.414684Z",
     "iopub.status.busy": "2021-05-16T18:51:11.414003Z",
     "iopub.status.idle": "2021-05-16T18:51:11.643575Z",
     "shell.execute_reply": "2021-05-16T18:51:11.642797Z"
    },
    "papermill": {
     "duration": 0.249794,
     "end_time": "2021-05-16T18:51:11.643779",
     "exception": false,
     "start_time": "2021-05-16T18:51:11.393985",
     "status": "completed"
    },
    "tags": []
   },
   "outputs": [],
   "source": [
    "paths=[\"/kaggle/input/commonlitreadabilityprize/sample_submission.csv\",\n",
    "       '/kaggle/input/commonlitreadabilityprize/train.csv',\n",
    "       '/kaggle/input/commonlitreadabilityprize/test.csv']\n",
    "df_train=pd.read_csv(paths[1])\n",
    "df_test=pd.read_csv(paths[2])\n",
    "df_ss=pd.read_csv(paths[0])"
   ]
  },
  {
   "cell_type": "code",
   "execution_count": 4,
   "id": "fourth-convenience",
   "metadata": {
    "execution": {
     "iopub.execute_input": "2021-05-16T18:51:11.679264Z",
     "iopub.status.busy": "2021-05-16T18:51:11.678176Z",
     "iopub.status.idle": "2021-05-16T18:51:11.680528Z",
     "shell.execute_reply": "2021-05-16T18:51:11.681080Z"
    },
    "papermill": {
     "duration": 0.023344,
     "end_time": "2021-05-16T18:51:11.681286",
     "exception": false,
     "start_time": "2021-05-16T18:51:11.657942",
     "status": "completed"
    },
    "tags": []
   },
   "outputs": [],
   "source": [
    "def clean(string):\n",
    "    pattern='\\n'\n",
    "    pattern1= '\\''\n",
    "    test= re.sub(pattern,'',string)\n",
    "    string= re.sub(pattern1,'',string)\n",
    "\n",
    "    return string"
   ]
  },
  {
   "cell_type": "code",
   "execution_count": 5,
   "id": "reasonable-couple",
   "metadata": {
    "execution": {
     "iopub.execute_input": "2021-05-16T18:51:11.725594Z",
     "iopub.status.busy": "2021-05-16T18:51:11.724836Z",
     "iopub.status.idle": "2021-05-16T18:51:31.778891Z",
     "shell.execute_reply": "2021-05-16T18:51:31.777877Z"
    },
    "papermill": {
     "duration": 20.08404,
     "end_time": "2021-05-16T18:51:31.779124",
     "exception": false,
     "start_time": "2021-05-16T18:51:11.695084",
     "status": "completed"
    },
    "tags": []
   },
   "outputs": [
    {
     "name": "stdout",
     "output_type": "stream",
     "text": [
      "[nltk_data] Error loading stopwords: <urlopen error [Errno -3]\n",
      "[nltk_data]     Temporary failure in name resolution>\n"
     ]
    }
   ],
   "source": [
    "#remove stopwords \n",
    "nltk.download('stopwords')\n",
    "stop=stopwords.words('english')\n",
    "\n",
    "\n",
    "def remove_stopwords(df):\n",
    "    new_text=[]\n",
    "    for i in range(len(df)):\n",
    "        test=[j for j in df['excerpt'][i].split() if j not in stop]\n",
    "        new_text.append(' '.join(test))\n",
    "    new_text=pd.Series(new_text,name='cleaned_text')\n",
    "    df=pd.concat([df,new_text],axis='columns',copy=False)\n",
    "    return df"
   ]
  },
  {
   "cell_type": "code",
   "execution_count": 6,
   "id": "retired-frank",
   "metadata": {
    "execution": {
     "iopub.execute_input": "2021-05-16T18:51:31.842729Z",
     "iopub.status.busy": "2021-05-16T18:51:31.818658Z",
     "iopub.status.idle": "2021-05-16T18:51:31.846826Z",
     "shell.execute_reply": "2021-05-16T18:51:31.846097Z"
    },
    "papermill": {
     "duration": 0.05266,
     "end_time": "2021-05-16T18:51:31.846991",
     "exception": false,
     "start_time": "2021-05-16T18:51:31.794331",
     "status": "completed"
    },
    "tags": []
   },
   "outputs": [],
   "source": [
    "df_train['excerpt']=df_train['excerpt'].map(clean)\n",
    "df_test['excerpt']=df_test['excerpt'].map(clean)\n"
   ]
  },
  {
   "cell_type": "code",
   "execution_count": 7,
   "id": "cutting-thread",
   "metadata": {
    "execution": {
     "iopub.execute_input": "2021-05-16T18:51:31.906672Z",
     "iopub.status.busy": "2021-05-16T18:51:31.901509Z",
     "iopub.status.idle": "2021-05-16T18:51:32.688696Z",
     "shell.execute_reply": "2021-05-16T18:51:32.687961Z"
    },
    "papermill": {
     "duration": 0.827277,
     "end_time": "2021-05-16T18:51:32.688884",
     "exception": false,
     "start_time": "2021-05-16T18:51:31.861607",
     "status": "completed"
    },
    "tags": []
   },
   "outputs": [],
   "source": [
    "df_train= remove_stopwords(df_train)\n",
    "df_test= remove_stopwords(df_test)\n"
   ]
  },
  {
   "cell_type": "code",
   "execution_count": 8,
   "id": "cross-bench",
   "metadata": {
    "execution": {
     "iopub.execute_input": "2021-05-16T18:51:32.729034Z",
     "iopub.status.busy": "2021-05-16T18:51:32.728264Z",
     "iopub.status.idle": "2021-05-16T18:51:32.733835Z",
     "shell.execute_reply": "2021-05-16T18:51:32.733188Z"
    },
    "papermill": {
     "duration": 0.02962,
     "end_time": "2021-05-16T18:51:32.733992",
     "exception": false,
     "start_time": "2021-05-16T18:51:32.704372",
     "status": "completed"
    },
    "tags": []
   },
   "outputs": [
    {
     "name": "stdout",
     "output_type": "stream",
     "text": [
      "681.4446012702894 391 1101\n"
     ]
    }
   ],
   "source": [
    "length=[]\n",
    "for i in df_train['cleaned_text']:\n",
    "    length.append(len(i))\n",
    "    \n",
    "length= np.array(length)\n",
    "print(length.mean(),length.min(),length.max())"
   ]
  },
  {
   "cell_type": "code",
   "execution_count": 9,
   "id": "western-occurrence",
   "metadata": {
    "execution": {
     "iopub.execute_input": "2021-05-16T18:51:32.769825Z",
     "iopub.status.busy": "2021-05-16T18:51:32.768811Z",
     "iopub.status.idle": "2021-05-16T18:51:32.772355Z",
     "shell.execute_reply": "2021-05-16T18:51:32.771852Z"
    },
    "papermill": {
     "duration": 0.023411,
     "end_time": "2021-05-16T18:51:32.772535",
     "exception": false,
     "start_time": "2021-05-16T18:51:32.749124",
     "status": "completed"
    },
    "tags": []
   },
   "outputs": [],
   "source": [
    "X=df_train['cleaned_text']\n",
    "y=df_train['target']\n",
    "test=df_test['cleaned_text']\n",
    "\n"
   ]
  },
  {
   "cell_type": "code",
   "execution_count": 10,
   "id": "backed-despite",
   "metadata": {
    "execution": {
     "iopub.execute_input": "2021-05-16T18:51:32.807627Z",
     "iopub.status.busy": "2021-05-16T18:51:32.806565Z",
     "iopub.status.idle": "2021-05-16T18:51:32.809026Z",
     "shell.execute_reply": "2021-05-16T18:51:32.809478Z"
    },
    "papermill": {
     "duration": 0.022326,
     "end_time": "2021-05-16T18:51:32.809658",
     "exception": false,
     "start_time": "2021-05-16T18:51:32.787332",
     "status": "completed"
    },
    "tags": []
   },
   "outputs": [],
   "source": [
    "VOCAB= 25000\n",
    "max_len=681\n",
    "oov_token='<OOV_TOKEN>'\n",
    "truncate_type='post'\n",
    "padding_type='post'\n",
    "embedding_dim=16\n"
   ]
  },
  {
   "cell_type": "code",
   "execution_count": 11,
   "id": "timely-reliance",
   "metadata": {
    "execution": {
     "iopub.execute_input": "2021-05-16T18:51:32.843223Z",
     "iopub.status.busy": "2021-05-16T18:51:32.842194Z",
     "iopub.status.idle": "2021-05-16T18:51:33.516564Z",
     "shell.execute_reply": "2021-05-16T18:51:33.515959Z"
    },
    "papermill": {
     "duration": 0.69224,
     "end_time": "2021-05-16T18:51:33.516712",
     "exception": false,
     "start_time": "2021-05-16T18:51:32.824472",
     "status": "completed"
    },
    "tags": []
   },
   "outputs": [
    {
     "name": "stdout",
     "output_type": "stream",
     "text": [
      "28177\n"
     ]
    }
   ],
   "source": [
    "#tokenize\n",
    "tokenizer=Tokenizer(oov_token=oov_token,num_words=VOCAB)\n",
    "tokenizer.fit_on_texts(X)\n",
    "word_index = tokenizer.word_index\n",
    "print(len(word_index))\n",
    "\n",
    "#\n",
    "\n",
    "train_sequences= tokenizer.texts_to_sequences(X)\n",
    "test_sequences= tokenizer.texts_to_sequences(test)\n",
    "\n",
    "train_padding = pad_sequences(train_sequences, maxlen=max_len, padding= padding_type, truncating= truncate_type)\n",
    "test_padding = pad_sequences(test_sequences, maxlen=max_len, padding= padding_type , truncating= truncate_type)"
   ]
  },
  {
   "cell_type": "code",
   "execution_count": 12,
   "id": "irish-hamilton",
   "metadata": {
    "execution": {
     "iopub.execute_input": "2021-05-16T18:51:33.554326Z",
     "iopub.status.busy": "2021-05-16T18:51:33.553693Z",
     "iopub.status.idle": "2021-05-16T18:52:13.357071Z",
     "shell.execute_reply": "2021-05-16T18:52:13.355784Z"
    },
    "papermill": {
     "duration": 39.825101,
     "end_time": "2021-05-16T18:52:13.357251",
     "exception": false,
     "start_time": "2021-05-16T18:51:33.532150",
     "status": "completed"
    },
    "tags": []
   },
   "outputs": [
    {
     "name": "stderr",
     "output_type": "stream",
     "text": [
      "100%|██████████| 28177/28177 [00:00<00:00, 215223.93it/s]"
     ]
    },
    {
     "name": "stdout",
     "output_type": "stream",
     "text": [
      "Shape of Embedding: (28178, 300)\n"
     ]
    },
    {
     "name": "stderr",
     "output_type": "stream",
     "text": [
      "\n"
     ]
    }
   ],
   "source": [
    "import pickle\n",
    "\n",
    "with open('../input/pickled-glove840b300d-for-10sec-loading/glove.840B.300d.pkl', 'rb') as fp:\n",
    "    embeddings_index  = pickle.load(fp)\n",
    "    \n",
    "# create an embedding matrix for the words we have in the dataset\n",
    "embedding_matrix = np.zeros((len(word_index) + 1, 300))\n",
    "for word, i in tqdm(word_index.items()):\n",
    "    embedding_vector = embeddings_index.get(word)\n",
    "    if embedding_vector is not None:\n",
    "        embedding_matrix[i] = embedding_vector\n",
    "        \n",
    "print(f'Shape of Embedding: {embedding_matrix.shape}')"
   ]
  },
  {
   "cell_type": "code",
   "execution_count": 13,
   "id": "funded-semester",
   "metadata": {
    "execution": {
     "iopub.execute_input": "2021-05-16T18:52:13.402808Z",
     "iopub.status.busy": "2021-05-16T18:52:13.402040Z",
     "iopub.status.idle": "2021-05-16T18:52:14.255401Z",
     "shell.execute_reply": "2021-05-16T18:52:14.256001Z"
    },
    "papermill": {
     "duration": 0.880575,
     "end_time": "2021-05-16T18:52:14.256191",
     "exception": false,
     "start_time": "2021-05-16T18:52:13.375616",
     "status": "completed"
    },
    "tags": []
   },
   "outputs": [
    {
     "name": "stdout",
     "output_type": "stream",
     "text": [
      "Model: \"model\"\n",
      "_________________________________________________________________\n",
      "Layer (type)                 Output Shape              Param #   \n",
      "=================================================================\n",
      "input_1 (InputLayer)         [(None, 681)]             0         \n",
      "_________________________________________________________________\n",
      "embedding (Embedding)        (None, 681, 300)          8453400   \n",
      "_________________________________________________________________\n",
      "conv1d (Conv1D)              (None, 679, 32)           28832     \n",
      "_________________________________________________________________\n",
      "max_pooling1d (MaxPooling1D) (None, 339, 32)           0         \n",
      "_________________________________________________________________\n",
      "bidirectional (Bidirectional (None, 300)               219600    \n",
      "_________________________________________________________________\n",
      "dense (Dense)                (None, 128)               38528     \n",
      "_________________________________________________________________\n",
      "dense_1 (Dense)              (None, 64)                8256      \n",
      "_________________________________________________________________\n",
      "dense_2 (Dense)              (None, 32)                2080      \n",
      "_________________________________________________________________\n",
      "dense_3 (Dense)              (None, 16)                528       \n",
      "_________________________________________________________________\n",
      "dense_4 (Dense)              (None, 1)                 17        \n",
      "=================================================================\n",
      "Total params: 8,751,241\n",
      "Trainable params: 297,841\n",
      "Non-trainable params: 8,453,400\n",
      "_________________________________________________________________\n",
      "None\n"
     ]
    }
   ],
   "source": [
    "input_layer = Input(shape=(681,))\n",
    "x= embedding_layer= Embedding(len(word_index)+1,300,trainable=False,weights=[embedding_matrix])(input_layer)\n",
    "x= Conv1D(32,3,activation='relu')(x)\n",
    "x=MaxPooling1D(pool_size=2)(x)\n",
    "x= Bidirectional(LSTM(150))(x)\n",
    "x=Dense(128,activation='relu')(x)\n",
    "x=Dense(64,activation='relu')(x)\n",
    "x=Dense(32,activation='relu')(x)\n",
    "x=Dense(16,activation='relu')(x)\n",
    "predictions = Dense(1,activation='linear')(x)\n",
    "\n",
    "model1=Model(inputs=input_layer, outputs= predictions)\n",
    "\n",
    "print(model1.summary())\n",
    "\n",
    "\n",
    "model1.compile(\n",
    "    optimizer= Adam(learning_rate=1e-5),\n",
    "    loss='mse',\n",
    "    metrics='mae'\n",
    ")\n",
    "\n",
    "model_checkpoint=ModelCheckpoint('golve_200.h5',monitor='loss',save_best_only=True,mode='min')\n",
    "early_stopping=EarlyStopping(monitor=\"loss\",min_delta=0,patience=10,verbose=0,mode=\"min\",restore_best_weights=True)\n",
    "reduce_lr=ReduceLROnPlateau(monitor=\"loss\",factor=0.2,patience=10,min_lr=0.00001)\n"
   ]
  },
  {
   "cell_type": "code",
   "execution_count": 14,
   "id": "dirty-swift",
   "metadata": {
    "execution": {
     "iopub.execute_input": "2021-05-16T18:52:14.294340Z",
     "iopub.status.busy": "2021-05-16T18:52:14.293688Z",
     "iopub.status.idle": "2021-05-16T18:52:14.760161Z",
     "shell.execute_reply": "2021-05-16T18:52:14.760695Z"
    },
    "papermill": {
     "duration": 0.487197,
     "end_time": "2021-05-16T18:52:14.760903",
     "exception": false,
     "start_time": "2021-05-16T18:52:14.273706",
     "status": "completed"
    },
    "tags": []
   },
   "outputs": [],
   "source": [
    "model1.load_weights('../input/clr-glove-weights/golve_840b300d.h5')"
   ]
  },
  {
   "cell_type": "code",
   "execution_count": 15,
   "id": "typical-applicant",
   "metadata": {
    "execution": {
     "iopub.execute_input": "2021-05-16T18:52:14.801686Z",
     "iopub.status.busy": "2021-05-16T18:52:14.800595Z",
     "iopub.status.idle": "2021-05-16T18:52:15.978792Z",
     "shell.execute_reply": "2021-05-16T18:52:15.978003Z"
    },
    "papermill": {
     "duration": 1.199788,
     "end_time": "2021-05-16T18:52:15.978967",
     "exception": false,
     "start_time": "2021-05-16T18:52:14.779179",
     "status": "completed"
    },
    "tags": []
   },
   "outputs": [],
   "source": [
    "y_pred = model1.predict(test_padding)"
   ]
  },
  {
   "cell_type": "code",
   "execution_count": 16,
   "id": "urban-subscription",
   "metadata": {
    "execution": {
     "iopub.execute_input": "2021-05-16T18:52:16.020736Z",
     "iopub.status.busy": "2021-05-16T18:52:16.019976Z",
     "iopub.status.idle": "2021-05-16T18:52:16.024177Z",
     "shell.execute_reply": "2021-05-16T18:52:16.023610Z"
    },
    "papermill": {
     "duration": 0.02698,
     "end_time": "2021-05-16T18:52:16.024346",
     "exception": false,
     "start_time": "2021-05-16T18:52:15.997366",
     "status": "completed"
    },
    "tags": []
   },
   "outputs": [],
   "source": [
    "sub_scores=[]\n",
    "for i in y_pred:\n",
    "    sub_scores.append(i[0])\n"
   ]
  },
  {
   "cell_type": "code",
   "execution_count": 17,
   "id": "operating-northern",
   "metadata": {
    "execution": {
     "iopub.execute_input": "2021-05-16T18:52:16.067965Z",
     "iopub.status.busy": "2021-05-16T18:52:16.067211Z",
     "iopub.status.idle": "2021-05-16T18:52:16.092560Z",
     "shell.execute_reply": "2021-05-16T18:52:16.093127Z"
    },
    "papermill": {
     "duration": 0.050507,
     "end_time": "2021-05-16T18:52:16.093310",
     "exception": false,
     "start_time": "2021-05-16T18:52:16.042803",
     "status": "completed"
    },
    "tags": []
   },
   "outputs": [
    {
     "data": {
      "text/html": [
       "<div>\n",
       "<style scoped>\n",
       "    .dataframe tbody tr th:only-of-type {\n",
       "        vertical-align: middle;\n",
       "    }\n",
       "\n",
       "    .dataframe tbody tr th {\n",
       "        vertical-align: top;\n",
       "    }\n",
       "\n",
       "    .dataframe thead th {\n",
       "        text-align: right;\n",
       "    }\n",
       "</style>\n",
       "<table border=\"1\" class=\"dataframe\">\n",
       "  <thead>\n",
       "    <tr style=\"text-align: right;\">\n",
       "      <th></th>\n",
       "      <th>id</th>\n",
       "      <th>target</th>\n",
       "    </tr>\n",
       "  </thead>\n",
       "  <tbody>\n",
       "    <tr>\n",
       "      <th>0</th>\n",
       "      <td>c0f722661</td>\n",
       "      <td>-1.280372</td>\n",
       "    </tr>\n",
       "    <tr>\n",
       "      <th>1</th>\n",
       "      <td>f0953f0a5</td>\n",
       "      <td>-0.258921</td>\n",
       "    </tr>\n",
       "    <tr>\n",
       "      <th>2</th>\n",
       "      <td>0df072751</td>\n",
       "      <td>-0.744956</td>\n",
       "    </tr>\n",
       "    <tr>\n",
       "      <th>3</th>\n",
       "      <td>04caf4e0c</td>\n",
       "      <td>-2.258774</td>\n",
       "    </tr>\n",
       "    <tr>\n",
       "      <th>4</th>\n",
       "      <td>0e63f8bea</td>\n",
       "      <td>-1.616462</td>\n",
       "    </tr>\n",
       "  </tbody>\n",
       "</table>\n",
       "</div>"
      ],
      "text/plain": [
       "          id    target\n",
       "0  c0f722661 -1.280372\n",
       "1  f0953f0a5 -0.258921\n",
       "2  0df072751 -0.744956\n",
       "3  04caf4e0c -2.258774\n",
       "4  0e63f8bea -1.616462"
      ]
     },
     "execution_count": 17,
     "metadata": {},
     "output_type": "execute_result"
    }
   ],
   "source": [
    "sub=pd.DataFrame({'id':df_ss['id'],'target':sub_scores})\n",
    "sub.to_csv('submission.csv',index=False)\n",
    "sub.head()"
   ]
  }
 ],
 "metadata": {
  "kernelspec": {
   "display_name": "Python 3",
   "language": "python",
   "name": "python3"
  },
  "language_info": {
   "codemirror_mode": {
    "name": "ipython",
    "version": 3
   },
   "file_extension": ".py",
   "mimetype": "text/x-python",
   "name": "python",
   "nbconvert_exporter": "python",
   "pygments_lexer": "ipython3",
   "version": "3.7.10"
  },
  "papermill": {
   "default_parameters": {},
   "duration": 84.939633,
   "end_time": "2021-05-16T18:52:19.338501",
   "environment_variables": {},
   "exception": null,
   "input_path": "__notebook__.ipynb",
   "output_path": "__notebook__.ipynb",
   "parameters": {},
   "start_time": "2021-05-16T18:50:54.398868",
   "version": "2.3.3"
  }
 },
 "nbformat": 4,
 "nbformat_minor": 5
}
