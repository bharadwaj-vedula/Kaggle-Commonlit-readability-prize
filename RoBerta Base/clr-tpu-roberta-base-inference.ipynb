{
 "cells": [
  {
   "cell_type": "markdown",
   "id": "smoking-front",
   "metadata": {
    "papermill": {
     "duration": 0.016501,
     "end_time": "2021-07-13T09:33:09.180197",
     "exception": false,
     "start_time": "2021-07-13T09:33:09.163696",
     "status": "completed"
    },
    "tags": []
   },
   "source": [
    "# Versions \n",
    " \n",
    "* Version 1 : CV -0.308  LB- 0.518\n",
    "* Version 2 : cv 0.314 LB- \n",
    "* Version 3 : Rangars methodolgy\n",
    "* Version 4 : using only 5th fold weights \n",
    "* Version 5 : uding only 4th fold weight\n",
    "* Version 6 : Roberta base pre trained MLM CV:-0.3288 LB:- 0.567\n",
    "* Version 7 : changing seed to 123 from 2021 \n",
    "* Version 8 : using attention head too cv :- 0.2953 LB:- 0.532\n",
    "* Version 9 : changing roberta config and lr CV:- 0.301 LB:- 0.526\n",
    "* version 10:- Used pretrained maunish's model instead of roberta base and fine tuned it. CV:- 0.2689 LB:-0.507\n",
    "* version 11:- used roberta base with AdamW , along with suffle CV:- 0.217 LB:- 0.484\n",
    "* version 12: - same as version 11 , with mauinshs pretrained model CV:- 0.2117 LB:- "
   ]
  },
  {
   "cell_type": "code",
   "execution_count": 1,
   "id": "understood-dialogue",
   "metadata": {
    "execution": {
     "iopub.execute_input": "2021-07-13T09:33:09.216294Z",
     "iopub.status.busy": "2021-07-13T09:33:09.214626Z",
     "iopub.status.idle": "2021-07-13T09:33:16.554482Z",
     "shell.execute_reply": "2021-07-13T09:33:16.553496Z",
     "shell.execute_reply.started": "2021-07-13T09:31:13.793764Z"
    },
    "papermill": {
     "duration": 7.359046,
     "end_time": "2021-07-13T09:33:16.554646",
     "exception": false,
     "start_time": "2021-07-13T09:33:09.195600",
     "status": "completed"
    },
    "tags": []
   },
   "outputs": [],
   "source": [
    "import numpy as np \n",
    "import pandas as pd \n",
    "import matplotlib.pyplot as plt\n",
    "\n",
    "from sklearn.model_selection import KFold,StratifiedKFold,train_test_split\n",
    "from sklearn.metrics import mean_squared_error as mse\n",
    "\n",
    "import tensorflow as tf \n",
    "from tensorflow.keras.layers import Layer,Input,LSTM,Bidirectional,Embedding,Dense\n",
    "from tensorflow.keras.metrics import RootMeanSquaredError\n",
    "from tensorflow.keras.models import Model,load_model,save_model,model_from_json\n",
    "from tensorflow.keras.optimizers import Adam\n",
    "from tensorflow.keras.callbacks import ReduceLROnPlateau,ModelCheckpoint, EarlyStopping\n",
    "from tensorflow.keras.activations import tanh,softmax\n",
    "\n",
    "from transformers import TFRobertaModel, RobertaTokenizerFast , AutoConfig , TFAutoModel"
   ]
  },
  {
   "cell_type": "markdown",
   "id": "electrical-myanmar",
   "metadata": {
    "papermill": {
     "duration": 0.014949,
     "end_time": "2021-07-13T09:33:16.585045",
     "exception": false,
     "start_time": "2021-07-13T09:33:16.570096",
     "status": "completed"
    },
    "tags": []
   },
   "source": [
    "# Hyper parameters"
   ]
  },
  {
   "cell_type": "code",
   "execution_count": 2,
   "id": "natural-letter",
   "metadata": {
    "execution": {
     "iopub.execute_input": "2021-07-13T09:33:16.619514Z",
     "iopub.status.busy": "2021-07-13T09:33:16.618703Z",
     "iopub.status.idle": "2021-07-13T09:33:16.621432Z",
     "shell.execute_reply": "2021-07-13T09:33:16.620976Z",
     "shell.execute_reply.started": "2021-07-13T09:31:20.906054Z"
    },
    "papermill": {
     "duration": 0.021338,
     "end_time": "2021-07-13T09:33:16.621533",
     "exception": false,
     "start_time": "2021-07-13T09:33:16.600195",
     "status": "completed"
    },
    "tags": []
   },
   "outputs": [],
   "source": [
    "max_len = 250\n",
    "batch_size = 32\n",
    "AUTOTUNE = tf.data.AUTOTUNE"
   ]
  },
  {
   "cell_type": "code",
   "execution_count": 3,
   "id": "strong-response",
   "metadata": {
    "execution": {
     "iopub.execute_input": "2021-07-13T09:33:16.657727Z",
     "iopub.status.busy": "2021-07-13T09:33:16.657171Z",
     "iopub.status.idle": "2021-07-13T09:33:16.725632Z",
     "shell.execute_reply": "2021-07-13T09:33:16.724768Z",
     "shell.execute_reply.started": "2021-07-13T09:31:20.921917Z"
    },
    "papermill": {
     "duration": 0.089283,
     "end_time": "2021-07-13T09:33:16.725786",
     "exception": false,
     "start_time": "2021-07-13T09:33:16.636503",
     "status": "completed"
    },
    "tags": []
   },
   "outputs": [],
   "source": [
    "path=[\"/kaggle/input/commonlitreadabilityprize/sample_submission.csv\",\n",
    "\"/kaggle/input/commonlitreadabilityprize/train.csv\",\n",
    "\"/kaggle/input/commonlitreadabilityprize/test.csv\"]\n",
    "\n",
    "df_train = pd.read_csv(path[1])\n",
    "df_test = pd.read_csv(path[2])\n",
    "df_ss = pd.read_csv(path[0])"
   ]
  },
  {
   "cell_type": "code",
   "execution_count": 4,
   "id": "floating-casting",
   "metadata": {
    "execution": {
     "iopub.execute_input": "2021-07-13T09:33:16.770975Z",
     "iopub.status.busy": "2021-07-13T09:33:16.770221Z",
     "iopub.status.idle": "2021-07-13T09:33:16.772851Z",
     "shell.execute_reply": "2021-07-13T09:33:16.772435Z",
     "shell.execute_reply.started": "2021-07-13T09:31:21.054723Z"
    },
    "papermill": {
     "duration": 0.03146,
     "end_time": "2021-07-13T09:33:16.772959",
     "exception": false,
     "start_time": "2021-07-13T09:33:16.741499",
     "status": "completed"
    },
    "tags": []
   },
   "outputs": [],
   "source": [
    "df_train = df_train.drop(['url_legal','license','standard_error'],axis='columns')\n",
    "df_test = df_test.drop(['url_legal','license'],axis='columns')"
   ]
  },
  {
   "cell_type": "code",
   "execution_count": 5,
   "id": "authorized-hardware",
   "metadata": {
    "execution": {
     "iopub.execute_input": "2021-07-13T09:33:16.809311Z",
     "iopub.status.busy": "2021-07-13T09:33:16.808607Z",
     "iopub.status.idle": "2021-07-13T09:33:16.811743Z",
     "shell.execute_reply": "2021-07-13T09:33:16.812144Z",
     "shell.execute_reply.started": "2021-07-13T09:31:21.077095Z"
    },
    "papermill": {
     "duration": 0.024195,
     "end_time": "2021-07-13T09:33:16.812268",
     "exception": false,
     "start_time": "2021-07-13T09:33:16.788073",
     "status": "completed"
    },
    "tags": []
   },
   "outputs": [
    {
     "data": {
      "text/plain": [
       "(Index(['id', 'excerpt', 'target'], dtype='object'),\n",
       " Index(['id', 'excerpt'], dtype='object'))"
      ]
     },
     "execution_count": 5,
     "metadata": {},
     "output_type": "execute_result"
    }
   ],
   "source": [
    "df_train.columns, df_test.columns"
   ]
  },
  {
   "cell_type": "code",
   "execution_count": 6,
   "id": "median-circular",
   "metadata": {
    "execution": {
     "iopub.execute_input": "2021-07-13T09:33:16.847377Z",
     "iopub.status.busy": "2021-07-13T09:33:16.846652Z",
     "iopub.status.idle": "2021-07-13T09:33:16.849437Z",
     "shell.execute_reply": "2021-07-13T09:33:16.849012Z",
     "shell.execute_reply.started": "2021-07-13T09:31:21.098299Z"
    },
    "papermill": {
     "duration": 0.021801,
     "end_time": "2021-07-13T09:33:16.849543",
     "exception": false,
     "start_time": "2021-07-13T09:33:16.827742",
     "status": "completed"
    },
    "tags": []
   },
   "outputs": [],
   "source": [
    "X= df_train['excerpt']\n",
    "y=df_train['target']\n",
    "\n",
    "X_test = df_test['excerpt']"
   ]
  },
  {
   "cell_type": "code",
   "execution_count": 7,
   "id": "ongoing-argument",
   "metadata": {
    "execution": {
     "iopub.execute_input": "2021-07-13T09:33:16.884350Z",
     "iopub.status.busy": "2021-07-13T09:33:16.883626Z",
     "iopub.status.idle": "2021-07-13T09:33:16.886352Z",
     "shell.execute_reply": "2021-07-13T09:33:16.885939Z",
     "shell.execute_reply.started": "2021-07-13T09:31:21.112188Z"
    },
    "papermill": {
     "duration": 0.021701,
     "end_time": "2021-07-13T09:33:16.886459",
     "exception": false,
     "start_time": "2021-07-13T09:33:16.864758",
     "status": "completed"
    },
    "tags": []
   },
   "outputs": [],
   "source": [
    "X = X.tolist()\n",
    "y = y.tolist()\n",
    "X_test = X_test.tolist()"
   ]
  },
  {
   "cell_type": "markdown",
   "id": "frequent-tackle",
   "metadata": {
    "papermill": {
     "duration": 0.015125,
     "end_time": "2021-07-13T09:33:16.916896",
     "exception": false,
     "start_time": "2021-07-13T09:33:16.901771",
     "status": "completed"
    },
    "tags": []
   },
   "source": [
    "# Initialise Tokenizer"
   ]
  },
  {
   "cell_type": "code",
   "execution_count": 8,
   "id": "noticed-female",
   "metadata": {
    "execution": {
     "iopub.execute_input": "2021-07-13T09:33:16.950888Z",
     "iopub.status.busy": "2021-07-13T09:33:16.950396Z",
     "iopub.status.idle": "2021-07-13T09:33:17.074844Z",
     "shell.execute_reply": "2021-07-13T09:33:17.074372Z",
     "shell.execute_reply.started": "2021-07-13T09:31:21.125561Z"
    },
    "papermill": {
     "duration": 0.14273,
     "end_time": "2021-07-13T09:33:17.074977",
     "exception": false,
     "start_time": "2021-07-13T09:33:16.932247",
     "status": "completed"
    },
    "tags": []
   },
   "outputs": [],
   "source": [
    "tokenizer = RobertaTokenizerFast.from_pretrained(\"../input/robertabaseweights/result/roberta-tokenizer\")"
   ]
  },
  {
   "cell_type": "markdown",
   "id": "moved-growing",
   "metadata": {
    "papermill": {
     "duration": 0.015309,
     "end_time": "2021-07-13T09:33:17.105969",
     "exception": false,
     "start_time": "2021-07-13T09:33:17.090660",
     "status": "completed"
    },
    "tags": []
   },
   "source": [
    "# Tokenize words"
   ]
  },
  {
   "cell_type": "code",
   "execution_count": 9,
   "id": "martial-switzerland",
   "metadata": {
    "execution": {
     "iopub.execute_input": "2021-07-13T09:33:17.143916Z",
     "iopub.status.busy": "2021-07-13T09:33:17.143195Z",
     "iopub.status.idle": "2021-07-13T09:33:18.655186Z",
     "shell.execute_reply": "2021-07-13T09:33:18.654522Z",
     "shell.execute_reply.started": "2021-07-13T09:31:21.304739Z"
    },
    "papermill": {
     "duration": 1.533506,
     "end_time": "2021-07-13T09:33:18.655324",
     "exception": false,
     "start_time": "2021-07-13T09:33:17.121818",
     "status": "completed"
    },
    "tags": []
   },
   "outputs": [],
   "source": [
    "train_embeddings = tokenizer(X, truncation = True , padding ='max_length' , max_length=max_len)\n",
    "test_embeddings = tokenizer(X_test,  truncation = True , padding = 'max_length'  ,max_length =max_len)"
   ]
  },
  {
   "cell_type": "code",
   "execution_count": 10,
   "id": "existing-suggestion",
   "metadata": {
    "execution": {
     "iopub.execute_input": "2021-07-13T09:33:18.692723Z",
     "iopub.status.busy": "2021-07-13T09:33:18.692046Z",
     "iopub.status.idle": "2021-07-13T09:33:18.695288Z",
     "shell.execute_reply": "2021-07-13T09:33:18.695687Z",
     "shell.execute_reply.started": "2021-07-13T09:31:22.796913Z"
    },
    "papermill": {
     "duration": 0.024488,
     "end_time": "2021-07-13T09:33:18.695814",
     "exception": false,
     "start_time": "2021-07-13T09:33:18.671326",
     "status": "completed"
    },
    "tags": []
   },
   "outputs": [
    {
     "data": {
      "text/plain": [
       "(250, 250)"
      ]
     },
     "execution_count": 10,
     "metadata": {},
     "output_type": "execute_result"
    }
   ],
   "source": [
    "len(train_embeddings['input_ids'][6]),len(test_embeddings['input_ids'][6])"
   ]
  },
  {
   "cell_type": "code",
   "execution_count": 11,
   "id": "alien-flashing",
   "metadata": {
    "execution": {
     "iopub.execute_input": "2021-07-13T09:33:18.732735Z",
     "iopub.status.busy": "2021-07-13T09:33:18.732009Z",
     "iopub.status.idle": "2021-07-13T09:33:18.734758Z",
     "shell.execute_reply": "2021-07-13T09:33:18.734356Z",
     "shell.execute_reply.started": "2021-07-13T09:31:22.807084Z"
    },
    "papermill": {
     "duration": 0.02345,
     "end_time": "2021-07-13T09:33:18.734865",
     "exception": false,
     "start_time": "2021-07-13T09:33:18.711415",
     "status": "completed"
    },
    "tags": []
   },
   "outputs": [],
   "source": [
    "@tf.function\n",
    "def map_function(encodings , target):\n",
    "    input_ids = encodings['input_ids']\n",
    "    attention_mask = encodings['attention_mask']\n",
    "    \n",
    "    target = tf.cast(target, tf.float32 )\n",
    "    \n",
    "    return {'input_ids': input_ids , 'attention_mask': attention_mask}, target\n",
    "\n",
    "\n",
    "\n",
    "@tf.function\n",
    "def map_function_test(encodings):\n",
    "    input_ids = encodings['input_ids']\n",
    "    attention_mask = encodings['attention_mask']\n",
    "    \n",
    "    return {'input_ids': input_ids , 'attention_mask': attention_mask}"
   ]
  },
  {
   "cell_type": "code",
   "execution_count": 12,
   "id": "working-tribute",
   "metadata": {
    "execution": {
     "iopub.execute_input": "2021-07-13T09:33:18.804318Z",
     "iopub.status.busy": "2021-07-13T09:33:18.788842Z",
     "iopub.status.idle": "2021-07-13T09:33:29.225727Z",
     "shell.execute_reply": "2021-07-13T09:33:29.225246Z",
     "shell.execute_reply.started": "2021-07-13T09:31:22.815681Z"
    },
    "papermill": {
     "duration": 10.475321,
     "end_time": "2021-07-13T09:33:29.225858",
     "exception": false,
     "start_time": "2021-07-13T09:33:18.750537",
     "status": "completed"
    },
    "tags": []
   },
   "outputs": [],
   "source": [
    "train = tf.data.Dataset.from_tensor_slices((train_embeddings,y))\n",
    "\n",
    "train = (\n",
    "        train\n",
    "        .map(map_function, num_parallel_calls=AUTOTUNE)\n",
    "        .batch(32)\n",
    "        .prefetch(AUTOTUNE)\n",
    "    )\n",
    "\n",
    "\n",
    "test = tf.data.Dataset.from_tensor_slices((test_embeddings))\n",
    "\n",
    "test = (\n",
    "    test\n",
    "    .map(map_function_test, num_parallel_calls = AUTOTUNE)\n",
    "    .batch(32)\n",
    "    .prefetch(AUTOTUNE)\n",
    ")"
   ]
  },
  {
   "cell_type": "markdown",
   "id": "limiting-baltimore",
   "metadata": {
    "papermill": {
     "duration": 0.015395,
     "end_time": "2021-07-13T09:33:29.257551",
     "exception": false,
     "start_time": "2021-07-13T09:33:29.242156",
     "status": "completed"
    },
    "tags": []
   },
   "source": [
    "# Loading Model"
   ]
  },
  {
   "cell_type": "code",
   "execution_count": 13,
   "id": "moving-plain",
   "metadata": {
    "execution": {
     "iopub.execute_input": "2021-07-13T09:33:29.293899Z",
     "iopub.status.busy": "2021-07-13T09:33:29.293168Z",
     "iopub.status.idle": "2021-07-13T09:33:29.296250Z",
     "shell.execute_reply": "2021-07-13T09:33:29.296660Z",
     "shell.execute_reply.started": "2021-07-13T09:31:32.864352Z"
    },
    "papermill": {
     "duration": 0.023516,
     "end_time": "2021-07-13T09:33:29.296785",
     "exception": false,
     "start_time": "2021-07-13T09:33:29.273269",
     "status": "completed"
    },
    "tags": []
   },
   "outputs": [
    {
     "data": {
      "text/plain": [
       "'with open(\"../input/robertabaseweights/model_structure.json\", \"r\") as outfile:\\n    json=outfile.read()\\n\\n    \\ndef load_model_from_json(json_path):\\n    with open(json_path, \"r\") as outfile:\\n        json=outfile.read()\\n    \\n    model = model_from_json(json)\\n    \\n    \\n    return model'"
      ]
     },
     "execution_count": 13,
     "metadata": {},
     "output_type": "execute_result"
    }
   ],
   "source": [
    "\"\"\"with open(\"../input/robertabaseweights/model_structure.json\", \"r\") as outfile:\n",
    "    json=outfile.read()\n",
    "\n",
    "    \n",
    "def load_model_from_json(json_path):\n",
    "    with open(json_path, \"r\") as outfile:\n",
    "        json=outfile.read()\n",
    "    \n",
    "    model = model_from_json(json)\n",
    "    \n",
    "    \n",
    "    return model\"\"\""
   ]
  },
  {
   "cell_type": "code",
   "execution_count": 14,
   "id": "established-twins",
   "metadata": {
    "execution": {
     "iopub.execute_input": "2021-07-13T09:33:29.341720Z",
     "iopub.status.busy": "2021-07-13T09:33:29.340987Z",
     "iopub.status.idle": "2021-07-13T09:33:29.343273Z",
     "shell.execute_reply": "2021-07-13T09:33:29.343670Z",
     "shell.execute_reply.started": "2021-07-13T09:31:32.872118Z"
    },
    "papermill": {
     "duration": 0.031209,
     "end_time": "2021-07-13T09:33:29.343785",
     "exception": false,
     "start_time": "2021-07-13T09:33:29.312576",
     "status": "completed"
    },
    "tags": []
   },
   "outputs": [],
   "source": [
    "class RobertaBlock(Layer):\n",
    "    def __init__(self, max_len ,name):\n",
    "        super(RobertaBlock , self).__init__()\n",
    "        self.config = AutoConfig.from_pretrained(name)\n",
    "        self.config.update({\"output_hidden_states\":True})\n",
    "        self.roberta_model = TFAutoModel.from_pretrained(name , config = self.config)\n",
    "        self.dense = Dense(1, activation='linear')\n",
    "        \n",
    "    def call(self,input_tensors):\n",
    "        input_id = input_tensors[0]\n",
    "        attention_mask = input_tensors[1]\n",
    "        roberta_output = self.roberta_model.roberta(input_ids = input_id , attention_mask = attention_mask)\n",
    "        roberta_output = roberta_output.hidden_states[-1]\n",
    "        return roberta_output\n",
    "\n",
    "class RegressionHead(Layer):\n",
    "    def __init__(self):\n",
    "        super(RegressionHead , self).__init__()\n",
    "        self.dense = Dense(1, activation=\"linear\")\n",
    "    \n",
    "    def call(self , input_tensors):\n",
    "        x = self.dense(input_tensors)\n",
    "        return x\n",
    "        \n",
    "class AttentionHead(Layer):\n",
    "    def __init__(self):\n",
    "        super(AttentionHead , self).__init__()\n",
    "        self.dense1 = Dense(512)\n",
    "        self.tanh =  tanh\n",
    "        self.softmax = softmax\n",
    "        self.dense2 = Dense(1,activation=\"softmax\")\n",
    "\n",
    "    def call(self , input_tensors):\n",
    "        x = self.dense1(input_tensors)\n",
    "        x = self.tanh(x)\n",
    "        x = self.dense2(x)\n",
    "        x = self.softmax(x , axis = 1)\n",
    "        return x  \n",
    "\n",
    "class CLRModel(Model):\n",
    "    def __init__(self,max_len,name):\n",
    "        super(CLRModel, self).__init__()\n",
    "        self.roberta_model = RobertaBlock(max_len , name)\n",
    "        self.attentionhead = AttentionHead()\n",
    "        self.regressionhead = RegressionHead()\n",
    "    \n",
    "    def call(self,input_tensors):\n",
    "        roberta_output = self.roberta_model(input_tensors)\n",
    "        #print('shape of roberta output is' , roberta_output.shape)\n",
    "        weights = self.attentionhead(roberta_output)\n",
    "        #print('shape of attention head is',weights.shape)\n",
    "        context_vector = tf.reduce_sum(weights * roberta_output, axis=1)\n",
    "        #print(\"shape of context vector\" , context_vector.shape)\n",
    "        x = self.regressionhead(context_vector)\n",
    "        return x\n",
    "    \n",
    "    def model(self):\n",
    "        input_id = Input(shape = (max_len, ) ,dtype=tf.int32, name = 'input_ids')\n",
    "        attention_mask = Input(shape=(max_len,) ,dtype=tf.int32, name = 'attention_mask')\n",
    "        \n",
    "        return Model(inputs = [input_id , attention_mask] , outputs = self.call([input_id , attention_mask]))"
   ]
  },
  {
   "cell_type": "code",
   "execution_count": 15,
   "id": "excellent-marble",
   "metadata": {
    "execution": {
     "iopub.execute_input": "2021-07-13T09:33:29.379166Z",
     "iopub.status.busy": "2021-07-13T09:33:29.378506Z",
     "iopub.status.idle": "2021-07-13T09:33:29.381316Z",
     "shell.execute_reply": "2021-07-13T09:33:29.380878Z",
     "shell.execute_reply.started": "2021-07-13T09:31:32.890178Z"
    },
    "papermill": {
     "duration": 0.021844,
     "end_time": "2021-07-13T09:33:29.381419",
     "exception": false,
     "start_time": "2021-07-13T09:33:29.359575",
     "status": "completed"
    },
    "tags": []
   },
   "outputs": [],
   "source": [
    "def load_model_weights(model, path):\n",
    "    print(\"loading weights\")\n",
    "    model.load_weights(path)\n",
    "    return model"
   ]
  },
  {
   "cell_type": "code",
   "execution_count": 16,
   "id": "respected-rehabilitation",
   "metadata": {
    "execution": {
     "iopub.execute_input": "2021-07-13T09:33:29.418342Z",
     "iopub.status.busy": "2021-07-13T09:33:29.417789Z",
     "iopub.status.idle": "2021-07-13T09:34:01.088936Z",
     "shell.execute_reply": "2021-07-13T09:34:01.087991Z",
     "shell.execute_reply.started": "2021-07-13T09:31:32.902943Z"
    },
    "papermill": {
     "duration": 31.691831,
     "end_time": "2021-07-13T09:34:01.089116",
     "exception": false,
     "start_time": "2021-07-13T09:33:29.397285",
     "status": "completed"
    },
    "tags": []
   },
   "outputs": [
    {
     "name": "stderr",
     "output_type": "stream",
     "text": [
      "Some layers from the model checkpoint at ../input/huggingface-roberta/roberta-base were not used when initializing TFRobertaModel: ['lm_head']\n",
      "- This IS expected if you are initializing TFRobertaModel from the checkpoint of a model trained on another task or with another architecture (e.g. initializing a BertForSequenceClassification model from a BertForPreTraining model).\n",
      "- This IS NOT expected if you are initializing TFRobertaModel from the checkpoint of a model that you expect to be exactly identical (initializing a BertForSequenceClassification model from a BertForSequenceClassification model).\n",
      "All the layers of TFRobertaModel were initialized from the model checkpoint at ../input/huggingface-roberta/roberta-base.\n",
      "If your task is similar to the task the model of the checkpoint was trained on, you can already use TFRobertaModel for predictions without further training.\n"
     ]
    },
    {
     "name": "stdout",
     "output_type": "stream",
     "text": [
      "loading weights\n",
      "loading weights\n",
      "loading weights\n",
      "loading weights\n",
      "loading weights\n"
     ]
    }
   ],
   "source": [
    "model_weight_paths=[\n",
    "    \"../input/robertabaseweights/result/roberta_weight_fold_1.h5\",\n",
    "    \"../input/robertabaseweights/result/roberta_weight_fold_2.h5\",\n",
    "    \"../input/robertabaseweights/result/roberta_weight_fold_3.h5\",\n",
    "    \"../input/robertabaseweights/result/roberta_weight_fold_4.h5\",\n",
    "    \"../input/robertabaseweights/result/roberta_weight_fold_5.h5\"\n",
    "]\n",
    "\n",
    "# json_path = \"../input/robertabaseweights/model_structure.json\"\n",
    "# model_structure= load_model_from_json(json_path)\n",
    "\n",
    "model_path = \"../input/huggingface-roberta/roberta-base\"\n",
    "model = CLRModel(max_len , model_path).model()\n",
    "\n",
    "model1 = load_model_weights(model , model_weight_paths[0])\n",
    "model2 = load_model_weights(model , model_weight_paths[1])\n",
    "model3 = load_model_weights(model , model_weight_paths[2])\n",
    "model4 = load_model_weights(model , model_weight_paths[3])\n",
    "model5 = load_model_weights(model , model_weight_paths[4])"
   ]
  },
  {
   "cell_type": "code",
   "execution_count": 17,
   "id": "terminal-retailer",
   "metadata": {
    "execution": {
     "iopub.execute_input": "2021-07-13T09:34:01.130868Z",
     "iopub.status.busy": "2021-07-13T09:34:01.130375Z",
     "iopub.status.idle": "2021-07-13T09:34:04.285978Z",
     "shell.execute_reply": "2021-07-13T09:34:04.286862Z",
     "shell.execute_reply.started": "2021-07-13T09:32:04.365875Z"
    },
    "papermill": {
     "duration": 3.179482,
     "end_time": "2021-07-13T09:34:04.287020",
     "exception": false,
     "start_time": "2021-07-13T09:34:01.107538",
     "status": "completed"
    },
    "tags": []
   },
   "outputs": [
    {
     "name": "stdout",
     "output_type": "stream",
     "text": [
      "1/1 [==============================] - 3s 3s/step\n",
      "1/1 [==============================] - 0s 118ms/step\n",
      "1/1 [==============================] - 0s 107ms/step\n",
      "1/1 [==============================] - 0s 112ms/step\n",
      "1/1 [==============================] - 0s 107ms/step\n"
     ]
    }
   ],
   "source": [
    "y_pred_1 = model1.predict(test , verbose = 1)\n",
    "y_pred_2 = model2.predict(test , verbose = 1)\n",
    "y_pred_3 = model3.predict(test, verbose = 1)\n",
    "y_pred_4 = model4.predict(test, verbose = 1)\n",
    "y_pred_5 = model5.predict(test, verbose = 1)"
   ]
  },
  {
   "cell_type": "code",
   "execution_count": 18,
   "id": "moved-touch",
   "metadata": {
    "execution": {
     "iopub.execute_input": "2021-07-13T09:34:04.333487Z",
     "iopub.status.busy": "2021-07-13T09:34:04.332844Z",
     "iopub.status.idle": "2021-07-13T09:34:04.336879Z",
     "shell.execute_reply": "2021-07-13T09:34:04.336472Z",
     "shell.execute_reply.started": "2021-07-13T09:32:07.655307Z"
    },
    "papermill": {
     "duration": 0.029022,
     "end_time": "2021-07-13T09:34:04.336981",
     "exception": false,
     "start_time": "2021-07-13T09:34:04.307959",
     "status": "completed"
    },
    "tags": []
   },
   "outputs": [],
   "source": [
    "sub_scores=[]\n",
    "for i,j,k,l,m in zip(y_pred_1,y_pred_2,y_pred_3,y_pred_4,y_pred_5):\n",
    "    sub_scores.append(np.mean([i[0],j[0],k[0],l[0],m[0]]))"
   ]
  },
  {
   "cell_type": "code",
   "execution_count": 19,
   "id": "awful-player",
   "metadata": {
    "execution": {
     "iopub.execute_input": "2021-07-13T09:34:04.384635Z",
     "iopub.status.busy": "2021-07-13T09:34:04.383773Z",
     "iopub.status.idle": "2021-07-13T09:34:04.516376Z",
     "shell.execute_reply": "2021-07-13T09:34:04.516777Z",
     "shell.execute_reply.started": "2021-07-13T09:32:07.664516Z"
    },
    "papermill": {
     "duration": 0.159663,
     "end_time": "2021-07-13T09:34:04.516939",
     "exception": false,
     "start_time": "2021-07-13T09:34:04.357276",
     "status": "completed"
    },
    "tags": []
   },
   "outputs": [
    {
     "data": {
      "text/html": [
       "<div>\n",
       "<style scoped>\n",
       "    .dataframe tbody tr th:only-of-type {\n",
       "        vertical-align: middle;\n",
       "    }\n",
       "\n",
       "    .dataframe tbody tr th {\n",
       "        vertical-align: top;\n",
       "    }\n",
       "\n",
       "    .dataframe thead th {\n",
       "        text-align: right;\n",
       "    }\n",
       "</style>\n",
       "<table border=\"1\" class=\"dataframe\">\n",
       "  <thead>\n",
       "    <tr style=\"text-align: right;\">\n",
       "      <th></th>\n",
       "      <th>id</th>\n",
       "      <th>target</th>\n",
       "    </tr>\n",
       "  </thead>\n",
       "  <tbody>\n",
       "    <tr>\n",
       "      <th>0</th>\n",
       "      <td>c0f722661</td>\n",
       "      <td>-0.257447</td>\n",
       "    </tr>\n",
       "    <tr>\n",
       "      <th>1</th>\n",
       "      <td>f0953f0a5</td>\n",
       "      <td>-0.750190</td>\n",
       "    </tr>\n",
       "    <tr>\n",
       "      <th>2</th>\n",
       "      <td>0df072751</td>\n",
       "      <td>-0.264087</td>\n",
       "    </tr>\n",
       "    <tr>\n",
       "      <th>3</th>\n",
       "      <td>04caf4e0c</td>\n",
       "      <td>-2.399662</td>\n",
       "    </tr>\n",
       "    <tr>\n",
       "      <th>4</th>\n",
       "      <td>0e63f8bea</td>\n",
       "      <td>-1.792055</td>\n",
       "    </tr>\n",
       "  </tbody>\n",
       "</table>\n",
       "</div>"
      ],
      "text/plain": [
       "          id    target\n",
       "0  c0f722661 -0.257447\n",
       "1  f0953f0a5 -0.750190\n",
       "2  0df072751 -0.264087\n",
       "3  04caf4e0c -2.399662\n",
       "4  0e63f8bea -1.792055"
      ]
     },
     "execution_count": 19,
     "metadata": {},
     "output_type": "execute_result"
    }
   ],
   "source": [
    "sub=pd.DataFrame({'id':df_ss['id'],'target':sub_scores})\n",
    "sub.to_csv('submission.csv',index=False)\n",
    "sub.head()"
   ]
  }
 ],
 "metadata": {
  "kernelspec": {
   "display_name": "Python 3",
   "language": "python",
   "name": "python3"
  },
  "language_info": {
   "codemirror_mode": {
    "name": "ipython",
    "version": 3
   },
   "file_extension": ".py",
   "mimetype": "text/x-python",
   "name": "python",
   "nbconvert_exporter": "python",
   "pygments_lexer": "ipython3",
   "version": "3.7.10"
  },
  "papermill": {
   "default_parameters": {},
   "duration": 64.718243,
   "end_time": "2021-07-13T09:34:07.134485",
   "environment_variables": {},
   "exception": null,
   "input_path": "__notebook__.ipynb",
   "output_path": "__notebook__.ipynb",
   "parameters": {},
   "start_time": "2021-07-13T09:33:02.416242",
   "version": "2.3.3"
  }
 },
 "nbformat": 4,
 "nbformat_minor": 5
}
