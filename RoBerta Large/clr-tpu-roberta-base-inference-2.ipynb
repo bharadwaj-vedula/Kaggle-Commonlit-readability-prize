{
 "cells": [
  {
   "cell_type": "markdown",
   "id": "correct-ancient",
   "metadata": {
    "papermill": {
     "duration": 0.029947,
     "end_time": "2021-07-17T20:56:12.959771",
     "exception": false,
     "start_time": "2021-07-17T20:56:12.929824",
     "status": "completed"
    },
    "tags": []
   },
   "source": [
    "# Versions \n",
    "* Version 2 : using ragnars method of reducing step size CV: 0.3299 LB: 0.491\n",
    "* Version 3: removing early stopping CV: 0.2315 LB: 0.497\n",
    "* Version 4: used roberta large CV:- 0.2217 LB:-"
   ]
  },
  {
   "cell_type": "code",
   "execution_count": 1,
   "id": "sticky-volleyball",
   "metadata": {
    "execution": {
     "iopub.execute_input": "2021-07-17T20:56:13.031028Z",
     "iopub.status.busy": "2021-07-17T20:56:13.029789Z",
     "iopub.status.idle": "2021-07-17T20:56:20.200265Z",
     "shell.execute_reply": "2021-07-17T20:56:20.199636Z",
     "shell.execute_reply.started": "2021-07-17T20:49:25.183121Z"
    },
    "papermill": {
     "duration": 7.215629,
     "end_time": "2021-07-17T20:56:20.200431",
     "exception": false,
     "start_time": "2021-07-17T20:56:12.984802",
     "status": "completed"
    },
    "tags": []
   },
   "outputs": [],
   "source": [
    "import numpy as np \n",
    "import pandas as pd \n",
    "import matplotlib.pyplot as plt\n",
    "from glob import glob\n",
    "\n",
    "from sklearn.model_selection import KFold,StratifiedKFold,train_test_split\n",
    "from sklearn.metrics import mean_squared_error as mse\n",
    "\n",
    "import tensorflow as tf \n",
    "from tensorflow.keras.layers import Layer,Input,LSTM,Bidirectional,Embedding,Dense\n",
    "from tensorflow.keras.metrics import RootMeanSquaredError\n",
    "from tensorflow.keras.models import Model,load_model,save_model,model_from_json\n",
    "from tensorflow.keras.optimizers import Adam\n",
    "from tensorflow.keras.callbacks import ReduceLROnPlateau,ModelCheckpoint, EarlyStopping\n",
    "from tensorflow.keras.activations import tanh,softmax\n",
    "\n",
    "from transformers import TFRobertaModel, RobertaTokenizerFast , AutoConfig , TFAutoModel\n",
    "\n"
   ]
  },
  {
   "cell_type": "markdown",
   "id": "victorian-madison",
   "metadata": {
    "papermill": {
     "duration": 0.014998,
     "end_time": "2021-07-17T20:56:20.231378",
     "exception": false,
     "start_time": "2021-07-17T20:56:20.216380",
     "status": "completed"
    },
    "tags": []
   },
   "source": [
    "# Hyper parameters"
   ]
  },
  {
   "cell_type": "code",
   "execution_count": 2,
   "id": "editorial-helicopter",
   "metadata": {
    "execution": {
     "iopub.execute_input": "2021-07-17T20:56:20.268138Z",
     "iopub.status.busy": "2021-07-17T20:56:20.267211Z",
     "iopub.status.idle": "2021-07-17T20:56:20.269869Z",
     "shell.execute_reply": "2021-07-17T20:56:20.270336Z",
     "shell.execute_reply.started": "2021-07-17T20:49:32.227125Z"
    },
    "papermill": {
     "duration": 0.023638,
     "end_time": "2021-07-17T20:56:20.270477",
     "exception": false,
     "start_time": "2021-07-17T20:56:20.246839",
     "status": "completed"
    },
    "tags": []
   },
   "outputs": [],
   "source": [
    "max_len = 250\n",
    "batch_size = 24\n",
    "AUTOTUNE = tf.data.AUTOTUNE"
   ]
  },
  {
   "cell_type": "code",
   "execution_count": 3,
   "id": "offensive-invasion",
   "metadata": {
    "execution": {
     "iopub.execute_input": "2021-07-17T20:56:20.310859Z",
     "iopub.status.busy": "2021-07-17T20:56:20.310328Z",
     "iopub.status.idle": "2021-07-17T20:56:20.394008Z",
     "shell.execute_reply": "2021-07-17T20:56:20.394417Z",
     "shell.execute_reply.started": "2021-07-17T20:49:34.221043Z"
    },
    "papermill": {
     "duration": 0.106233,
     "end_time": "2021-07-17T20:56:20.394577",
     "exception": false,
     "start_time": "2021-07-17T20:56:20.288344",
     "status": "completed"
    },
    "tags": []
   },
   "outputs": [],
   "source": [
    "path=[\"/kaggle/input/commonlitreadabilityprize/sample_submission.csv\",\n",
    "\"/kaggle/input/commonlitreadabilityprize/train.csv\",\n",
    "\"/kaggle/input/commonlitreadabilityprize/test.csv\"]\n",
    "\n",
    "df_train = pd.read_csv(path[1])\n",
    "df_test = pd.read_csv(path[2])\n",
    "df_ss = pd.read_csv(path[0])"
   ]
  },
  {
   "cell_type": "code",
   "execution_count": 4,
   "id": "loaded-length",
   "metadata": {
    "execution": {
     "iopub.execute_input": "2021-07-17T20:56:20.438516Z",
     "iopub.status.busy": "2021-07-17T20:56:20.437677Z",
     "iopub.status.idle": "2021-07-17T20:56:20.440361Z",
     "shell.execute_reply": "2021-07-17T20:56:20.439952Z",
     "shell.execute_reply.started": "2021-07-17T20:49:34.478050Z"
    },
    "papermill": {
     "duration": 0.030088,
     "end_time": "2021-07-17T20:56:20.440482",
     "exception": false,
     "start_time": "2021-07-17T20:56:20.410394",
     "status": "completed"
    },
    "tags": []
   },
   "outputs": [],
   "source": [
    "df_train = df_train.drop(['url_legal','license','standard_error'],axis='columns')\n",
    "df_test = df_test.drop(['url_legal','license'],axis='columns')"
   ]
  },
  {
   "cell_type": "code",
   "execution_count": 5,
   "id": "posted-airfare",
   "metadata": {
    "execution": {
     "iopub.execute_input": "2021-07-17T20:56:20.482278Z",
     "iopub.status.busy": "2021-07-17T20:56:20.481425Z",
     "iopub.status.idle": "2021-07-17T20:56:20.485204Z",
     "shell.execute_reply": "2021-07-17T20:56:20.485681Z",
     "shell.execute_reply.started": "2021-07-17T20:49:35.766409Z"
    },
    "papermill": {
     "duration": 0.029404,
     "end_time": "2021-07-17T20:56:20.485892",
     "exception": false,
     "start_time": "2021-07-17T20:56:20.456488",
     "status": "completed"
    },
    "tags": []
   },
   "outputs": [
    {
     "data": {
      "text/plain": [
       "(Index(['id', 'excerpt', 'target'], dtype='object'),\n",
       " Index(['id', 'excerpt'], dtype='object'))"
      ]
     },
     "execution_count": 5,
     "metadata": {},
     "output_type": "execute_result"
    }
   ],
   "source": [
    "df_train.columns, df_test.columns"
   ]
  },
  {
   "cell_type": "code",
   "execution_count": 6,
   "id": "creative-sentence",
   "metadata": {
    "execution": {
     "iopub.execute_input": "2021-07-17T20:56:20.522851Z",
     "iopub.status.busy": "2021-07-17T20:56:20.522122Z",
     "iopub.status.idle": "2021-07-17T20:56:20.524811Z",
     "shell.execute_reply": "2021-07-17T20:56:20.524407Z",
     "shell.execute_reply.started": "2021-07-17T20:49:35.970584Z"
    },
    "papermill": {
     "duration": 0.022382,
     "end_time": "2021-07-17T20:56:20.524927",
     "exception": false,
     "start_time": "2021-07-17T20:56:20.502545",
     "status": "completed"
    },
    "tags": []
   },
   "outputs": [],
   "source": [
    "X= df_train['excerpt']\n",
    "y=df_train['target']\n",
    "\n",
    "X_test = df_test['excerpt']"
   ]
  },
  {
   "cell_type": "code",
   "execution_count": 7,
   "id": "actual-showcase",
   "metadata": {
    "execution": {
     "iopub.execute_input": "2021-07-17T20:56:20.560590Z",
     "iopub.status.busy": "2021-07-17T20:56:20.559692Z",
     "iopub.status.idle": "2021-07-17T20:56:20.562725Z",
     "shell.execute_reply": "2021-07-17T20:56:20.562241Z",
     "shell.execute_reply.started": "2021-07-17T20:49:37.245183Z"
    },
    "papermill": {
     "duration": 0.022532,
     "end_time": "2021-07-17T20:56:20.562852",
     "exception": false,
     "start_time": "2021-07-17T20:56:20.540320",
     "status": "completed"
    },
    "tags": []
   },
   "outputs": [],
   "source": [
    "X = X.tolist()\n",
    "y = y.tolist()\n",
    "X_test = X_test.tolist()"
   ]
  },
  {
   "cell_type": "markdown",
   "id": "opposite-bonus",
   "metadata": {
    "papermill": {
     "duration": 0.017128,
     "end_time": "2021-07-17T20:56:20.598079",
     "exception": false,
     "start_time": "2021-07-17T20:56:20.580951",
     "status": "completed"
    },
    "tags": []
   },
   "source": [
    "# Initialise Tokenizer"
   ]
  },
  {
   "cell_type": "code",
   "execution_count": 8,
   "id": "bibliographic-packing",
   "metadata": {
    "execution": {
     "iopub.execute_input": "2021-07-17T20:56:20.633673Z",
     "iopub.status.busy": "2021-07-17T20:56:20.632911Z",
     "iopub.status.idle": "2021-07-17T20:56:20.783662Z",
     "shell.execute_reply": "2021-07-17T20:56:20.783120Z",
     "shell.execute_reply.started": "2021-07-17T20:51:26.440514Z"
    },
    "papermill": {
     "duration": 0.170349,
     "end_time": "2021-07-17T20:56:20.783818",
     "exception": false,
     "start_time": "2021-07-17T20:56:20.613469",
     "status": "completed"
    },
    "tags": []
   },
   "outputs": [
    {
     "data": {
      "text/plain": [
       "PreTrainedTokenizerFast(name_or_path='../input/robertabaseweights2/result/roberta-tokenizer', vocab_size=50265, model_max_len=1000000000000000019884624838656, is_fast=True, padding_side='right', special_tokens={'bos_token': '<s>', 'eos_token': '</s>', 'unk_token': '<unk>', 'sep_token': '</s>', 'pad_token': '<pad>', 'cls_token': '<s>', 'mask_token': AddedToken(\"<mask>\", rstrip=False, lstrip=True, single_word=False, normalized=False)})"
      ]
     },
     "execution_count": 8,
     "metadata": {},
     "output_type": "execute_result"
    }
   ],
   "source": [
    "tokenizer = RobertaTokenizerFast.from_pretrained(\"../input/robertabaseweights2/result/roberta-tokenizer\")\n",
    "tokenizer"
   ]
  },
  {
   "cell_type": "markdown",
   "id": "protecting-sessions",
   "metadata": {
    "papermill": {
     "duration": 0.015597,
     "end_time": "2021-07-17T20:56:20.817199",
     "exception": false,
     "start_time": "2021-07-17T20:56:20.801602",
     "status": "completed"
    },
    "tags": []
   },
   "source": [
    "# Tokenize words"
   ]
  },
  {
   "cell_type": "code",
   "execution_count": 9,
   "id": "legendary-climate",
   "metadata": {
    "execution": {
     "iopub.execute_input": "2021-07-17T20:56:20.856704Z",
     "iopub.status.busy": "2021-07-17T20:56:20.856057Z",
     "iopub.status.idle": "2021-07-17T20:56:22.451025Z",
     "shell.execute_reply": "2021-07-17T20:56:22.450465Z",
     "shell.execute_reply.started": "2021-07-17T20:51:29.767992Z"
    },
    "papermill": {
     "duration": 1.617639,
     "end_time": "2021-07-17T20:56:22.451168",
     "exception": false,
     "start_time": "2021-07-17T20:56:20.833529",
     "status": "completed"
    },
    "tags": []
   },
   "outputs": [],
   "source": [
    "train_embeddings = tokenizer(X, truncation = True , padding ='max_length' , max_length=max_len)\n",
    "test_embeddings = tokenizer(X_test,  truncation = True , padding = 'max_length'  ,max_length =max_len)"
   ]
  },
  {
   "cell_type": "code",
   "execution_count": 10,
   "id": "adaptive-better",
   "metadata": {
    "execution": {
     "iopub.execute_input": "2021-07-17T20:56:22.489254Z",
     "iopub.status.busy": "2021-07-17T20:56:22.488598Z",
     "iopub.status.idle": "2021-07-17T20:56:22.491744Z",
     "shell.execute_reply": "2021-07-17T20:56:22.492149Z",
     "shell.execute_reply.started": "2021-07-17T20:51:31.307047Z"
    },
    "papermill": {
     "duration": 0.024608,
     "end_time": "2021-07-17T20:56:22.492275",
     "exception": false,
     "start_time": "2021-07-17T20:56:22.467667",
     "status": "completed"
    },
    "tags": []
   },
   "outputs": [
    {
     "data": {
      "text/plain": [
       "(250, 250)"
      ]
     },
     "execution_count": 10,
     "metadata": {},
     "output_type": "execute_result"
    }
   ],
   "source": [
    "len(train_embeddings['input_ids'][6]),len(test_embeddings['input_ids'][6])"
   ]
  },
  {
   "cell_type": "code",
   "execution_count": 11,
   "id": "stable-necklace",
   "metadata": {
    "execution": {
     "iopub.execute_input": "2021-07-17T20:56:22.533867Z",
     "iopub.status.busy": "2021-07-17T20:56:22.532993Z",
     "iopub.status.idle": "2021-07-17T20:56:22.535486Z",
     "shell.execute_reply": "2021-07-17T20:56:22.535976Z",
     "shell.execute_reply.started": "2021-07-17T20:51:31.829925Z"
    },
    "papermill": {
     "duration": 0.02716,
     "end_time": "2021-07-17T20:56:22.536111",
     "exception": false,
     "start_time": "2021-07-17T20:56:22.508951",
     "status": "completed"
    },
    "tags": []
   },
   "outputs": [],
   "source": [
    "@tf.function\n",
    "def map_function(encodings , target):\n",
    "    input_ids = encodings['input_ids']\n",
    "    attention_mask = encodings['attention_mask']\n",
    "    \n",
    "    target = tf.cast(target, tf.float32 )\n",
    "    \n",
    "    return {'input_ids': input_ids , 'attention_mask': attention_mask}, target\n",
    "\n",
    "\n",
    "\n",
    "@tf.function\n",
    "def map_function_test(encodings):\n",
    "    input_ids = encodings['input_ids']\n",
    "    attention_mask = encodings['attention_mask']\n",
    "    \n",
    "    return {'input_ids': input_ids , 'attention_mask': attention_mask}"
   ]
  },
  {
   "cell_type": "code",
   "execution_count": 12,
   "id": "absolute-shannon",
   "metadata": {
    "execution": {
     "iopub.execute_input": "2021-07-17T20:56:22.597503Z",
     "iopub.status.busy": "2021-07-17T20:56:22.587291Z",
     "iopub.status.idle": "2021-07-17T20:56:32.642071Z",
     "shell.execute_reply": "2021-07-17T20:56:32.642594Z",
     "shell.execute_reply.started": "2021-07-17T20:51:33.980171Z"
    },
    "papermill": {
     "duration": 10.08909,
     "end_time": "2021-07-17T20:56:32.642783",
     "exception": false,
     "start_time": "2021-07-17T20:56:22.553693",
     "status": "completed"
    },
    "tags": []
   },
   "outputs": [],
   "source": [
    "train = tf.data.Dataset.from_tensor_slices((train_embeddings,y))\n",
    "\n",
    "train = (\n",
    "        train\n",
    "        .map(map_function, num_parallel_calls=AUTOTUNE)\n",
    "        .batch(32)\n",
    "        .prefetch(AUTOTUNE)\n",
    "    )\n",
    "\n",
    "\n",
    "test = tf.data.Dataset.from_tensor_slices((test_embeddings))\n",
    "\n",
    "test = (\n",
    "    test\n",
    "    .map(map_function_test, num_parallel_calls = AUTOTUNE)\n",
    "    .batch(32)\n",
    "    .prefetch(AUTOTUNE)\n",
    ")"
   ]
  },
  {
   "cell_type": "markdown",
   "id": "foster-alliance",
   "metadata": {
    "papermill": {
     "duration": 0.016393,
     "end_time": "2021-07-17T20:56:32.676664",
     "exception": false,
     "start_time": "2021-07-17T20:56:32.660271",
     "status": "completed"
    },
    "tags": []
   },
   "source": [
    "# Loading Model"
   ]
  },
  {
   "cell_type": "code",
   "execution_count": 13,
   "id": "disturbed-newspaper",
   "metadata": {
    "execution": {
     "iopub.execute_input": "2021-07-17T20:56:32.725146Z",
     "iopub.status.busy": "2021-07-17T20:56:32.724098Z",
     "iopub.status.idle": "2021-07-17T20:56:32.726967Z",
     "shell.execute_reply": "2021-07-17T20:56:32.726483Z",
     "shell.execute_reply.started": "2021-07-17T20:51:38.527701Z"
    },
    "papermill": {
     "duration": 0.033586,
     "end_time": "2021-07-17T20:56:32.727097",
     "exception": false,
     "start_time": "2021-07-17T20:56:32.693511",
     "status": "completed"
    },
    "tags": []
   },
   "outputs": [],
   "source": [
    "class RobertaBlock(Layer):\n",
    "    def __init__(self, max_len ,name):\n",
    "        super(RobertaBlock , self).__init__()\n",
    "        self.config = AutoConfig.from_pretrained(name)\n",
    "        self.config.update({\"output_hidden_states\":True})\n",
    "        self.roberta_model = TFAutoModel.from_pretrained(name , config = self.config)\n",
    "        self.dense = Dense(1, activation='linear')\n",
    "        \n",
    "    def call(self,input_tensors):\n",
    "        input_id = input_tensors[0]\n",
    "        attention_mask = input_tensors[1]\n",
    "        roberta_output = self.roberta_model.roberta(input_ids = input_id , attention_mask = attention_mask)\n",
    "        roberta_output = roberta_output.hidden_states[-1]\n",
    "        return roberta_output\n",
    "\n",
    "class RegressionHead(Layer):\n",
    "    def __init__(self):\n",
    "        super(RegressionHead , self).__init__()\n",
    "        self.dense = Dense(1, activation=\"linear\")\n",
    "    \n",
    "    def call(self , input_tensors):\n",
    "        x = self.dense(input_tensors)\n",
    "        return x\n",
    "        \n",
    "class AttentionHead(Layer):\n",
    "    def __init__(self):\n",
    "        super(AttentionHead , self).__init__()\n",
    "        self.dense1 = Dense(512)\n",
    "        self.tanh =  tanh\n",
    "        self.softmax = softmax\n",
    "        self.dense2 = Dense(1,activation=\"softmax\")\n",
    "\n",
    "    def call(self , input_tensors):\n",
    "        x = self.dense1(input_tensors)\n",
    "        x = self.tanh(x)\n",
    "        x = self.dense2(x)\n",
    "        x = self.softmax(x , axis = 1)\n",
    "        return x  \n",
    "\n",
    "class CLRModel(Model):\n",
    "    def __init__(self,max_len,name):\n",
    "        super(CLRModel, self).__init__()\n",
    "        self.roberta_model = RobertaBlock(max_len , name)\n",
    "        self.attentionhead = AttentionHead()\n",
    "        self.regressionhead = RegressionHead()\n",
    "    \n",
    "    def call(self,input_tensors):\n",
    "        roberta_output = self.roberta_model(input_tensors)\n",
    "        #print('shape of roberta output is' , roberta_output.shape)\n",
    "        weights = self.attentionhead(roberta_output)\n",
    "        #print('shape of attention head is',weights.shape)\n",
    "        context_vector = tf.reduce_sum(weights * roberta_output, axis=1)\n",
    "        #print(\"shape of context vector\" , context_vector.shape)\n",
    "        x = self.regressionhead(context_vector)\n",
    "        return x\n",
    "    \n",
    "    def model(self):\n",
    "        input_id = Input(shape = (max_len, ) ,dtype=tf.int32, name = 'input_ids')\n",
    "        attention_mask = Input(shape=(max_len,) ,dtype=tf.int32, name = 'attention_mask')\n",
    "        \n",
    "        return Model(inputs = [input_id , attention_mask] , outputs = self.call([input_id , attention_mask]))"
   ]
  },
  {
   "cell_type": "code",
   "execution_count": 14,
   "id": "formal-library",
   "metadata": {
    "execution": {
     "iopub.execute_input": "2021-07-17T20:56:32.767515Z",
     "iopub.status.busy": "2021-07-17T20:56:32.766690Z",
     "iopub.status.idle": "2021-07-17T20:56:32.768922Z",
     "shell.execute_reply": "2021-07-17T20:56:32.769289Z",
     "shell.execute_reply.started": "2021-07-17T20:51:38.544804Z"
    },
    "papermill": {
     "duration": 0.023741,
     "end_time": "2021-07-17T20:56:32.769425",
     "exception": false,
     "start_time": "2021-07-17T20:56:32.745684",
     "status": "completed"
    },
    "tags": []
   },
   "outputs": [],
   "source": [
    "def load_model_weights(model, path):\n",
    "    print(\"loading weights\")\n",
    "    model.load_weights(path)\n",
    "    return model"
   ]
  },
  {
   "cell_type": "code",
   "execution_count": 15,
   "id": "dense-halloween",
   "metadata": {
    "execution": {
     "iopub.execute_input": "2021-07-17T20:56:32.806876Z",
     "iopub.status.busy": "2021-07-17T20:56:32.806350Z",
     "iopub.status.idle": "2021-07-17T20:57:51.495070Z",
     "shell.execute_reply": "2021-07-17T20:57:51.493840Z",
     "shell.execute_reply.started": "2021-07-17T20:53:08.652431Z"
    },
    "papermill": {
     "duration": 78.709344,
     "end_time": "2021-07-17T20:57:51.495233",
     "exception": false,
     "start_time": "2021-07-17T20:56:32.785889",
     "status": "completed"
    },
    "tags": []
   },
   "outputs": [
    {
     "name": "stderr",
     "output_type": "stream",
     "text": [
      "Some layers from the model checkpoint at ../input/huggingface-roberta/roberta-large were not used when initializing TFRobertaModel: ['lm_head']\n",
      "- This IS expected if you are initializing TFRobertaModel from the checkpoint of a model trained on another task or with another architecture (e.g. initializing a BertForSequenceClassification model from a BertForPreTraining model).\n",
      "- This IS NOT expected if you are initializing TFRobertaModel from the checkpoint of a model that you expect to be exactly identical (initializing a BertForSequenceClassification model from a BertForSequenceClassification model).\n",
      "All the layers of TFRobertaModel were initialized from the model checkpoint at ../input/huggingface-roberta/roberta-large.\n",
      "If your task is similar to the task the model of the checkpoint was trained on, you can already use TFRobertaModel for predictions without further training.\n"
     ]
    },
    {
     "name": "stdout",
     "output_type": "stream",
     "text": [
      "loading weights\n",
      "loading weights\n",
      "loading weights\n",
      "loading weights\n",
      "loading weights\n"
     ]
    }
   ],
   "source": [
    "file_path = \"../input/robertabaseweights2/result/*.h5\"\n",
    "model_weight_paths = glob(file_path)\n",
    "model_weight_paths = sorted(model_weight_paths)\n",
    "\n",
    "\n",
    "# json_path = \"../input/robertabaseweights/model_structure.json\"\n",
    "# model_structure= load_model_from_json(json_path)\n",
    "\n",
    "model_path = \"../input/huggingface-roberta/roberta-large\"\n",
    "model = CLRModel(max_len , model_path).model()\n",
    "\n",
    "model1 = load_model_weights(model , model_weight_paths[0])\n",
    "model2 = load_model_weights(model , model_weight_paths[1])\n",
    "model3 = load_model_weights(model , model_weight_paths[2])\n",
    "model4 = load_model_weights(model , model_weight_paths[3])\n",
    "model5 = load_model_weights(model , model_weight_paths[4])"
   ]
  },
  {
   "cell_type": "code",
   "execution_count": 16,
   "id": "understood-finder",
   "metadata": {
    "execution": {
     "iopub.execute_input": "2021-07-17T20:57:51.541121Z",
     "iopub.status.busy": "2021-07-17T20:57:51.540530Z",
     "iopub.status.idle": "2021-07-17T20:57:58.837113Z",
     "shell.execute_reply": "2021-07-17T20:57:58.836311Z",
     "shell.execute_reply.started": "2021-07-17T20:54:21.550047Z"
    },
    "papermill": {
     "duration": 7.320556,
     "end_time": "2021-07-17T20:57:58.837239",
     "exception": false,
     "start_time": "2021-07-17T20:57:51.516683",
     "status": "completed"
    },
    "tags": []
   },
   "outputs": [
    {
     "name": "stdout",
     "output_type": "stream",
     "text": [
      "1/1 [==============================] - 6s 6s/step\n",
      "1/1 [==============================] - 0s 263ms/step\n",
      "1/1 [==============================] - 0s 267ms/step\n",
      "1/1 [==============================] - 0s 254ms/step\n",
      "1/1 [==============================] - 0s 259ms/step\n"
     ]
    }
   ],
   "source": [
    "y_pred_1 = model1.predict(test , verbose = 1)\n",
    "y_pred_2 = model2.predict(test , verbose = 1)\n",
    "y_pred_3 = model3.predict(test, verbose = 1)\n",
    "y_pred_4 = model4.predict(test, verbose = 1)\n",
    "y_pred_5 = model5.predict(test, verbose = 1)"
   ]
  },
  {
   "cell_type": "code",
   "execution_count": 17,
   "id": "professional-diabetes",
   "metadata": {
    "execution": {
     "iopub.execute_input": "2021-07-17T20:57:58.884576Z",
     "iopub.status.busy": "2021-07-17T20:57:58.883989Z",
     "iopub.status.idle": "2021-07-17T20:57:58.888003Z",
     "shell.execute_reply": "2021-07-17T20:57:58.888474Z",
     "shell.execute_reply.started": "2021-07-17T20:54:28.430981Z"
    },
    "papermill": {
     "duration": 0.030589,
     "end_time": "2021-07-17T20:57:58.888618",
     "exception": false,
     "start_time": "2021-07-17T20:57:58.858029",
     "status": "completed"
    },
    "tags": []
   },
   "outputs": [],
   "source": [
    "sub_scores=[]\n",
    "for i,j,k,l,m in zip(y_pred_1,y_pred_2,y_pred_3,y_pred_4,y_pred_5):\n",
    "    sub_scores.append(np.mean([i[0],j[0],k[0],l[0],m[0]]))"
   ]
  },
  {
   "cell_type": "code",
   "execution_count": 18,
   "id": "ranging-leonard",
   "metadata": {
    "execution": {
     "iopub.execute_input": "2021-07-17T20:57:58.939656Z",
     "iopub.status.busy": "2021-07-17T20:57:58.938831Z",
     "iopub.status.idle": "2021-07-17T20:57:59.100701Z",
     "shell.execute_reply": "2021-07-17T20:57:59.100215Z",
     "shell.execute_reply.started": "2021-07-17T20:54:28.441220Z"
    },
    "papermill": {
     "duration": 0.188036,
     "end_time": "2021-07-17T20:57:59.100856",
     "exception": false,
     "start_time": "2021-07-17T20:57:58.912820",
     "status": "completed"
    },
    "tags": []
   },
   "outputs": [
    {
     "data": {
      "text/html": [
       "<div>\n",
       "<style scoped>\n",
       "    .dataframe tbody tr th:only-of-type {\n",
       "        vertical-align: middle;\n",
       "    }\n",
       "\n",
       "    .dataframe tbody tr th {\n",
       "        vertical-align: top;\n",
       "    }\n",
       "\n",
       "    .dataframe thead th {\n",
       "        text-align: right;\n",
       "    }\n",
       "</style>\n",
       "<table border=\"1\" class=\"dataframe\">\n",
       "  <thead>\n",
       "    <tr style=\"text-align: right;\">\n",
       "      <th></th>\n",
       "      <th>id</th>\n",
       "      <th>target</th>\n",
       "    </tr>\n",
       "  </thead>\n",
       "  <tbody>\n",
       "    <tr>\n",
       "      <th>0</th>\n",
       "      <td>c0f722661</td>\n",
       "      <td>-0.247490</td>\n",
       "    </tr>\n",
       "    <tr>\n",
       "      <th>1</th>\n",
       "      <td>f0953f0a5</td>\n",
       "      <td>-0.380616</td>\n",
       "    </tr>\n",
       "    <tr>\n",
       "      <th>2</th>\n",
       "      <td>0df072751</td>\n",
       "      <td>-0.463892</td>\n",
       "    </tr>\n",
       "    <tr>\n",
       "      <th>3</th>\n",
       "      <td>04caf4e0c</td>\n",
       "      <td>-2.186117</td>\n",
       "    </tr>\n",
       "    <tr>\n",
       "      <th>4</th>\n",
       "      <td>0e63f8bea</td>\n",
       "      <td>-1.851066</td>\n",
       "    </tr>\n",
       "  </tbody>\n",
       "</table>\n",
       "</div>"
      ],
      "text/plain": [
       "          id    target\n",
       "0  c0f722661 -0.247490\n",
       "1  f0953f0a5 -0.380616\n",
       "2  0df072751 -0.463892\n",
       "3  04caf4e0c -2.186117\n",
       "4  0e63f8bea -1.851066"
      ]
     },
     "execution_count": 18,
     "metadata": {},
     "output_type": "execute_result"
    }
   ],
   "source": [
    "sub=pd.DataFrame({'id':df_ss['id'],'target':sub_scores})\n",
    "sub.to_csv('submission.csv',index=False)\n",
    "sub.head()"
   ]
  },
  {
   "cell_type": "code",
   "execution_count": null,
   "id": "interesting-spoke",
   "metadata": {
    "papermill": {
     "duration": 0.020845,
     "end_time": "2021-07-17T20:57:59.146168",
     "exception": false,
     "start_time": "2021-07-17T20:57:59.125323",
     "status": "completed"
    },
    "tags": []
   },
   "outputs": [],
   "source": []
  }
 ],
 "metadata": {
  "kernelspec": {
   "display_name": "Python 3",
   "language": "python",
   "name": "python3"
  },
  "language_info": {
   "codemirror_mode": {
    "name": "ipython",
    "version": 3
   },
   "file_extension": ".py",
   "mimetype": "text/x-python",
   "name": "python",
   "nbconvert_exporter": "python",
   "pygments_lexer": "ipython3",
   "version": "3.7.10"
  },
  "papermill": {
   "default_parameters": {},
   "duration": 115.693287,
   "end_time": "2021-07-17T20:58:01.887660",
   "environment_variables": {},
   "exception": null,
   "input_path": "__notebook__.ipynb",
   "output_path": "__notebook__.ipynb",
   "parameters": {},
   "start_time": "2021-07-17T20:56:06.194373",
   "version": "2.3.3"
  }
 },
 "nbformat": 4,
 "nbformat_minor": 5
}
